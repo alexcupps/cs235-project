{
 "cells": [
  {
   "cell_type": "markdown",
   "metadata": {},
   "source": [
    "CS235 Project - Fall 2024\n",
    "- Alex Cupps (acupp002)\n",
    "- Zach Schwartz (zschw004)"
   ]
  },
  {
   "cell_type": "code",
   "execution_count": 1189,
   "metadata": {},
   "outputs": [],
   "source": [
    "#Cell reserved for all needed imports\n",
    "import numpy as np\n",
    "import pandas as pd\n",
    "import math\n",
    "from collections import Counter\n",
    "from sklearn.metrics import make_scorer, f1_score\n",
    "from sklearn.model_selection import StratifiedKFold, cross_val_score, train_test_split\n",
    "from sklearn.preprocessing import StandardScaler\n",
    "import matplotlib.pyplot as plt\n",
    "from sklearn.neighbors import NearestNeighbors\n"
   ]
  },
  {
   "cell_type": "markdown",
   "metadata": {},
   "source": [
    "Before we begin to analyze our data, we must first load it from the .data file provided, along with assigning the column names for the respective features:"
   ]
  },
  {
   "cell_type": "code",
   "execution_count": 1190,
   "metadata": {},
   "outputs": [
    {
     "name": "stdout",
     "output_type": "stream",
     "text": [
      "         ID Diagnosis  radius1  texture1  perimeter1   area1  smoothness1  \\\n",
      "0    842302         M    17.99     10.38      122.80  1001.0      0.11840   \n",
      "1    842517         M    20.57     17.77      132.90  1326.0      0.08474   \n",
      "2  84300903         M    19.69     21.25      130.00  1203.0      0.10960   \n",
      "3  84348301         M    11.42     20.38       77.58   386.1      0.14250   \n",
      "4  84358402         M    20.29     14.34      135.10  1297.0      0.10030   \n",
      "\n",
      "   compactness1  concavity1  concave_points1  ...  radius3  texture3  \\\n",
      "0       0.27760      0.3001          0.14710  ...    25.38     17.33   \n",
      "1       0.07864      0.0869          0.07017  ...    24.99     23.41   \n",
      "2       0.15990      0.1974          0.12790  ...    23.57     25.53   \n",
      "3       0.28390      0.2414          0.10520  ...    14.91     26.50   \n",
      "4       0.13280      0.1980          0.10430  ...    22.54     16.67   \n",
      "\n",
      "   perimeter3   area3  smoothness3  compactness3  concavity3  concave_points3  \\\n",
      "0      184.60  2019.0       0.1622        0.6656      0.7119           0.2654   \n",
      "1      158.80  1956.0       0.1238        0.1866      0.2416           0.1860   \n",
      "2      152.50  1709.0       0.1444        0.4245      0.4504           0.2430   \n",
      "3       98.87   567.7       0.2098        0.8663      0.6869           0.2575   \n",
      "4      152.20  1575.0       0.1374        0.2050      0.4000           0.1625   \n",
      "\n",
      "   symmetry3  fractal_dimension3  \n",
      "0     0.4601             0.11890  \n",
      "1     0.2750             0.08902  \n",
      "2     0.3613             0.08758  \n",
      "3     0.6638             0.17300  \n",
      "4     0.2364             0.07678  \n",
      "\n",
      "[5 rows x 32 columns]\n"
     ]
    }
   ],
   "source": [
    "columns = ['ID',\n",
    "           'Diagnosis',\n",
    "           'radius1',\n",
    "           'texture1',\n",
    "           'perimeter1',\n",
    "           'area1',\n",
    "           'smoothness1',\n",
    "           'compactness1',\n",
    "           'concavity1',\n",
    "           'concave_points1',\n",
    "           'symmetry1',\n",
    "           'fractal_dimension1',\n",
    "           'radius2',\n",
    "           'texture2',\n",
    "           'perimeter2',\n",
    "           'area2',\n",
    "           'smoothness2',\n",
    "           'compactness2',\n",
    "           'concavity2',\n",
    "           'concave_points2',\n",
    "           'symmetry2',\n",
    "           'fractal_dimension2',\n",
    "           'radius3',\n",
    "           'texture3',\n",
    "           'perimeter3',\n",
    "           'area3',\n",
    "           'smoothness3',\n",
    "           'compactness3',\n",
    "           'concavity3',\n",
    "           'concave_points3',\n",
    "           'symmetry3',\n",
    "           'fractal_dimension3'\n",
    "           ]\n",
    "\n",
    "data = pd.read_csv('data/wdbc.data', header=None, sep=',', names=columns)\n",
    "print(data.head())\n"
   ]
  },
  {
   "cell_type": "markdown",
   "metadata": {},
   "source": [
    "<h2>1. Implementing simple classifiers [15pts]</h2>\n",
    "- What to implement: In this question you should implement (1) a decision tree classifier\n",
    "that uses the Information Gain splitting criterion and (2) a Naive Bayes classifier which uses\n",
    "Gaussian modeling for continuous features.\n",
    "- What to plot: You should produce a bar-chart that shows the performance of your classifiers\n",
    "on the dataset.\n"
   ]
  },
  {
   "cell_type": "markdown",
   "metadata": {},
   "source": [
    "We will be creating a decision tree classifier using the information gain splitting criterion to effectively utilize the feature at each node that provides us with the most information gain about our target feature, 'Diagnosis' - telling us whether or not a breast mass is malignant (M) or benign (B). \n",
    "<br><br>\n",
    "First, we must prepare the data for the decision tree. First, we will drop the ID column and data from our dataset, as this data is not relevant to our predictive model. Next, we will create two new variables:\n",
    "1. features - the data for all features in our dataset other than the target\n",
    "2. target - the target feature of our dataset (Diagnosis) - determining whether a tumor is benign or malignant. We will convert the diagnosis data from categorical to numerical for the decision tree classifier."
   ]
  },
  {
   "cell_type": "code",
   "execution_count": 1191,
   "metadata": {},
   "outputs": [],
   "source": [
    "\n",
    "if 'ID' in data.columns:\n",
    "    data = data.drop(columns=['ID'])\n",
    "    \n",
    "features = data.drop(columns=['Diagnosis']).values\n",
    "target = data['Diagnosis'].map({'M': 1, 'B': 0}).values"
   ]
  },
  {
   "cell_type": "markdown",
   "metadata": {},
   "source": [
    "Next, we will create a function 'calculate_entropy' that takes the various values in the dataset and calculate the entropy, or level of purity."
   ]
  },
  {
   "cell_type": "code",
   "execution_count": 1192,
   "metadata": {},
   "outputs": [],
   "source": [
    "def calculate_entropy(x):\n",
    "    counts = np.bincount(x)\n",
    "    probabilities = counts / len(x)\n",
    "    entropy = 0\n",
    "\n",
    "    for prob in probabilities:\n",
    "        if prob > 0:\n",
    "            entropy += prob * abs(np.log2(prob))\n",
    "\n",
    "    return entropy"
   ]
  },
  {
   "cell_type": "markdown",
   "metadata": {},
   "source": [
    "Now that we have our entropy calculation completed, we need to create a function for calculating information gain. Since our features are mainly continuous, we should not perform exact value splits - doing so would lead to many small (and mostly single-item) bins, which would result in overfitting of our model. Instead, we will come up with thresholds between values for our splitting."
   ]
  },
  {
   "cell_type": "code",
   "execution_count": 1193,
   "metadata": {},
   "outputs": [],
   "source": [
    "def calculate_information_gain(dataset, labels, feature):\n",
    "    \n",
    "    #sort the indexes of the dataset for the given feature\n",
    "    sorted = np.argsort(dataset[:, feature])\n",
    "\n",
    "    #apply the sorting to the feature data and labels\n",
    "    sorted_data = dataset[sorted]\n",
    "    sorted_labels = labels[sorted]\n",
    "\n",
    "    #start at the top, calculating entropy level of the dataset\n",
    "    #to determine the level of purity\n",
    "    parent_entropy = calculate_entropy(labels)\n",
    "\n",
    "    #iterate over possible thresholds and get the indexes on each side\n",
    "    top_info_gain = 0\n",
    "    top_threshold = None\n",
    "    for i in range(1, len(sorted_data)):\n",
    "\n",
    "        threshold = (sorted_data[i-1, feature] + sorted_data[i, feature]) / 2\n",
    "        #left split is a boolean array containing True for the indexes with a value less than the threshold\n",
    "        #right split is a boolean array containing True for the indexes with a value greater than or equal to the threshold\n",
    "        left_split = sorted_data[:, feature] < threshold\n",
    "        right_split = sorted_data[:, feature] >= threshold\n",
    "\n",
    "        #next we calculate the entropies for the left and right sides of the split\n",
    "        #this will tell us how effective the split is, and we will maximize information gain\n",
    "        left_split_entropy = calculate_entropy(sorted_labels[left_split])\n",
    "        right_split_entropy = calculate_entropy(sorted_labels[right_split])\n",
    "\n",
    "        #calculate the weights of the left and right splits for use in the overall weight entropy calculation\n",
    "        weight_l = np.sum(left_split) / len(sorted_data)\n",
    "        weight_r = np.sum(right_split) / len(sorted_data)\n",
    "\n",
    "        #calculate the overall weighted entropy of the current split\n",
    "        weighted_split_entropy = weight_l * left_split_entropy + weight_r * right_split_entropy\n",
    "\n",
    "        #using the weighted split entropy, calculate the information gain of the threshold\n",
    "        #if the information gain is higher than any we've come across thus far, set as the top one\n",
    "        information_gain = parent_entropy - weighted_split_entropy\n",
    "        if information_gain > top_info_gain:\n",
    "            top_info_gain = information_gain\n",
    "            top_threshold = threshold\n",
    "\n",
    "    return top_info_gain, top_threshold"
   ]
  },
  {
   "cell_type": "markdown",
   "metadata": {},
   "source": [
    "Now that we've created our functions to calculate entropy and weighted information gain, we will create the Decision Tree Classifier itself. First, we need to create a Node class to store various attributes (feature index, threshold, left of threshold values, right of threshold values) of the node we are evaluating:"
   ]
  },
  {
   "cell_type": "code",
   "execution_count": 1194,
   "metadata": {},
   "outputs": [],
   "source": [
    "class TreeNode:\n",
    "    def __init__(self, feature=None, threshold=None, left=None, right=None, value=None):\n",
    "\n",
    "        #feature: index of feature being used for split\n",
    "        self.feature = feature\n",
    "\n",
    "        #threshold: threshold for the split\n",
    "        self.threshold = threshold\n",
    "\n",
    "        #left: the left node, contains all values < threshold\n",
    "        self.left = left\n",
    "\n",
    "        #right: the right node, contains all values >= threshold\n",
    "        self.right = right\n",
    "\n",
    "        #value: value (0 or 1 for benign or malignant) assigned when a leaf node is reached\n",
    "        #remains None until leaf node is found, then returns the value\n",
    "        self.value = value\n",
    "\n",
    "    def leaf_node_reached(self):\n",
    "        if self.value is not None:\n",
    "            return True\n",
    "        else:\n",
    "            return False"
   ]
  },
  {
   "cell_type": "markdown",
   "metadata": {},
   "source": [
    "Next, we will create our DecisionTreeClassifier class. This object contains all relevant methods for building our decision tree, recursively building tree nodes and calculating/maximizing information gain. I've annotated each method below with comments on its purpose: "
   ]
  },
  {
   "cell_type": "code",
   "execution_count": 1195,
   "metadata": {},
   "outputs": [],
   "source": [
    "class DecisionTreeClassifier:\n",
    "    def __init__(self, maximum_tree_depth):\n",
    "\n",
    "        #maximum_tree_depth (int): the maximum depth for our tree\n",
    "        self.maximum_tree_depth = maximum_tree_depth\n",
    "\n",
    "        self.tree = None\n",
    "\n",
    "    def fit(self, dataset, labels):\n",
    "        #method containing all logic to train our classifier\n",
    "        self.tree = self.build_tree(dataset, labels)\n",
    "\n",
    "    def build_tree(self, dataset, labels, cur_tree_depth=0):\n",
    "        #this method is where the bulk of the work is handled for building our decision tree\n",
    "\n",
    "        #label count gives us the number of labels in the current sample set\n",
    "        #label count of 1 indicates perfect purity (one of our stopping criteria)\n",
    "        label_ct = len(np.unique(labels))\n",
    "\n",
    "        #we first check our stoppage criteria, to see if we've reached a leaf node\n",
    "        #if our current depth has hit the stoppage depth defined, OR\n",
    "        #if the label count has a value of 1\n",
    "        if cur_tree_depth >= self.maximum_tree_depth or label_ct == 1:\n",
    "            #return leaf node with the most common class label\n",
    "            leaf_value = self.get_top_label(labels)\n",
    "            return TreeNode(value=leaf_value)\n",
    "\n",
    "        #call get_top_split() to calculate the top feature and threshold\n",
    "        top_feature, top_threshold = self.get_top_split(dataset, labels)\n",
    "        if top_feature is None:\n",
    "            #no feature being returned indicates we've reached a leaf node\n",
    "            #return this TreeNode object with the leaf value found\n",
    "            leaf_value = self.get_top_label(labels)\n",
    "            return TreeNode(value=leaf_value)\n",
    "\n",
    "        #split data on top feature and threshold\n",
    "        #then build the sub trees off using this split\n",
    "        left_split = dataset[:, top_feature] < top_threshold\n",
    "        right_split = dataset[:, top_feature] >= top_threshold\n",
    "        left_sub_tree = self.build_tree(dataset[left_split], labels[left_split], cur_tree_depth + 1)\n",
    "        right_sub_tree = self.build_tree(dataset[right_split], labels[right_split], cur_tree_depth + 1)\n",
    "\n",
    "        return TreeNode(feature=top_feature, threshold=top_threshold, left=left_sub_tree, right=right_sub_tree)\n",
    "\n",
    "    def get_top_split(self, dataset, labels):\n",
    "\n",
    "        feature_ct = dataset.shape[1]\n",
    "        top_feature = None\n",
    "        top_threshold = None\n",
    "        top_info_gain = 0\n",
    "\n",
    "        #iterate over the features and determine which feature/threshold provide the highest information gain\n",
    "        for feature in range(feature_ct):\n",
    "            info_gain, threshold = calculate_information_gain(dataset, labels, feature)\n",
    "            if info_gain > top_info_gain:\n",
    "                top_info_gain = info_gain\n",
    "                top_feature = feature\n",
    "                top_threshold = threshold\n",
    "\n",
    "        return top_feature, top_threshold\n",
    "\n",
    "    def get_top_label(self, labels):\n",
    "        #returns the most common label in the array\n",
    "        #we call this function to determine whether benign or malignant samples are more prominent\n",
    "        return np.bincount(labels).argmax()\n",
    "\n",
    "    def predict(self, dataset):\n",
    "        predictions = []\n",
    "        for point in dataset:\n",
    "            #append the predicted label value to our predictions list\n",
    "            predictions.append(self.predict_datapoint(point, self.tree))\n",
    "        return np.array(predictions)\n",
    "\n",
    "    def predict_datapoint(self, point, node):\n",
    "        #first check if we've reached a leaf node\n",
    "        #if so, return the determined label value\n",
    "        if node.leaf_node_reached():\n",
    "            return node.value\n",
    "        \n",
    "        #if not leaf value, continue down the left or right tree nodes\n",
    "        if point[node.feature] < node.threshold:\n",
    "            return self.predict_datapoint(point, node.left)\n",
    "        else:\n",
    "            return self.predict_datapoint(point, node.right)\n",
    "\n",
    "    #required getter and setter functions for our object \n",
    "    def get_params(self, deep=True):\n",
    "        return {\"maximum_tree_depth\": self.maximum_tree_depth}\n",
    "\n",
    "    def set_params(self, maximum_tree_depth=None):\n",
    "        self.maximum_tree_depth = maximum_tree_depth\n",
    "        return self"
   ]
  },
  {
   "cell_type": "markdown",
   "metadata": {},
   "source": [
    "The two main classes for our given dataset is Benign and Malignant.  The two classes will help separate the training data based on our target variable of 'Diagnosis'.  There are four methods defined for these two classes:\n",
    "\n",
    "- benign_data()/malignant_data(): The training data is spliced on whether an associated column contains 0 for benign or 1 for malignant.  This label encoding was established earlier to easily reference the two classes\n",
    "- mean(): calculates the mean of each feature\n",
    "- variance(): calculates variance of each feature\n",
    "- gaussianProbability(): assuming a normal Gaussian distribution, the probability of each feature in a data sample/instance.  The mean/variance calculated above is utilized within this method.  Feature probabilities are combined using logarithmic summation which is more stable at handling miniscule values.  Values of zero found in mean/variance were redefined as 1E-12 to avoid possibility of dividing by zero.  Similar logic is applied to the probability of a feature value being found in a class\n",
    "\n"
   ]
  },
  {
   "cell_type": "code",
   "execution_count": 1196,
   "metadata": {},
   "outputs": [],
   "source": [
    "#Separating the data by class \n",
    "class Benign:\n",
    "    #Having benign data be instance method allows method to call on itself\n",
    "    def benign_data(self, features, target):\n",
    "        x_train_b = features[target == 0]\n",
    "        return x_train_b\n",
    "    \n",
    "    def mean(self, x_train_b):\n",
    "        mean_value = {}\n",
    "        mean_value = np.mean(x_train_b, axis = 0)\n",
    "        return mean_value\n",
    "    def variance(self, x_train_b):\n",
    "        variance = {}\n",
    "        variance = np.var(x_train_b, axis = 0)\n",
    "        return variance\n",
    "    #Probability calculation requires parameters of class data set, index being called plus pre-calculated mean & variance\n",
    "    \n",
    "    def gaussianProbability(self, x_train_b, index, mean,variance):     \n",
    "        #Defining the probability sum before loop so function can add up all probabilities through each run in loop\n",
    "        sum_logP = 0\n",
    "        #Loop will go through all the data points within the columns\n",
    "        for feature_array in range(x_train_b.shape[1]):\n",
    "         #After parsing through a feature, x captures the data sample/instance within index that is called\n",
    "            x = x_train_b[index, feature_array]\n",
    "            μ = mean[feature_array]\n",
    "            σ = variance[feature_array]\n",
    "            #Handling zero values to avoid breaking Gaussian Probability calculation\n",
    "            if σ == 0:\n",
    "                σ = 1E-12\n",
    "            if μ ==0:\n",
    "                μ = 1E-12\n",
    "                #Setting up Naive Bayes proability calculation on continuous features by splitting numerator and denominator\n",
    "                #Assumes dataset has a Gaussian Distribution\n",
    "            num = math.exp(-(x-μ)**2/(2*σ))\n",
    "            denom = math.sqrt(2 * math.pi * σ)\n",
    "            P = num/denom\n",
    "                #Ensuring probability will not get too close to 0\n",
    "            if P <= 0:\n",
    "                P = 1E-18\n",
    "                #Using summation o\n",
    "                #Using summation of log function over product of posterior probability since log handles small numbers better\n",
    "            logP= (math.log(P))\n",
    "                #Variable increases the count of logP\n",
    "            sum_logP += logP\n",
    "        return sum_logP\n",
    "\n",
    "\n",
    "class Malignant:\n",
    "    def malignant_data(self, features, target):\n",
    "        x_train_m = features[target == 1]\n",
    "        return x_train_m\n",
    "    \n",
    "    def mean(self, x_train_m):\n",
    "        mean_value = {}\n",
    "        #Calculating mean of the numerical features in dataset\n",
    "        mean_value = np.mean(x_train_m, axis = 0)\n",
    "        return mean_value\n",
    "    def variance(self, x_train_m):\n",
    "        variance = {}\n",
    "        #Calculating variance of numerical features in databset\n",
    "            #Recording the variance value for each individual feature\n",
    "        variance = np.var(x_train_m, axis = 0)\n",
    "        return variance\n",
    "    #Probability calculation requires parameters of class data set, index being called plus pre-calculated mean & variance\n",
    "    def gaussianProbability(self, x_train_m, index, mean,variance):     \n",
    "        #Defining the probability sum before loop so function can add up all probabilities through each run in loop\n",
    "        sum_logP = 0\n",
    "         #Loop will go through all the data points within the columns\n",
    "        for feature_array in range(x_train_m.shape[1]):\n",
    "         #After parsing through a feature, x captures the data sample/instance within index that is called\n",
    "            x = x_train_m[index, feature_array]\n",
    "            μ = mean[feature_array]\n",
    "            σ = variance[feature_array]\n",
    "            #Handling zero values to avoid breaking Gaussian Probability calculation\n",
    "            if σ == 0:\n",
    "                σ = 1E-12\n",
    "            if μ ==0:\n",
    "                μ = 1E-12\n",
    "                #Setting up Naive Bayes proability calculation on continuous features by splitting numerator and denominator\n",
    "                #Assumes dataset has a Gaussian Distribution\n",
    "            num = math.exp(-(x-μ)**2/(2*σ))\n",
    "            denom = math.sqrt(2 * math.pi * σ)\n",
    "            P = num/denom\n",
    "                #Ensuring probability will not get too close to 0\n",
    "            if P <= 0:\n",
    "                P = 1E-18\n",
    "                #Using summation o\n",
    "                #Using summation of log function over product of posterior probability since log handles small numbers better\n",
    "            logP= (math.log(P))\n",
    "                #Variable increases the count of logP\n",
    "            sum_logP += logP\n",
    "        return sum_logP\n",
    "    \n"
   ]
  },
  {
   "cell_type": "markdown",
   "metadata": {},
   "source": [
    "A split of the features into training and testing data is employed shortly before fitting the Naive Bayes model.  Using same exact dataset to fit and test performance of model presents a risk of overfitting to this particular dataset.  Dividing the features allows a more holisitic evaluation of the model"
   ]
  },
  {
   "cell_type": "code",
   "execution_count": 1197,
   "metadata": {},
   "outputs": [],
   "source": [
    "x_train, x_test, y_train, y_test = train_test_split(features, target, test_size=0.25, random_state=42)\n"
   ]
  },
  {
   "cell_type": "markdown",
   "metadata": {},
   "source": [
    "Next, we create a NaiveBayesClassifier object to help us classify our data samples as benign or malignant. Below is a breakdown of the class:\n",
    "\n",
    "- init(): initialize the object\n",
    "- fit(): the method for training our NB classifier. In this method, we calculate the prior probabilities for both malignant and benign label values. We then train the classifier based off of these prior beliefs, and calculate the mean and variance values for both the malignant and benign labels.\n",
    "- predict(): in this method, we compute the actual prediction value of the label for a given row of data in our test split dataset. We calculate the Gaussian probability for each class label (B vs. M). Whichever one is higher is the predictive value we assign to the data.\n",
    "- get_params() / set_params(): allows for getting and setting of the object's values dynamically. These two methods are required in order to work with SKLearn's cross_val_score function that we utilize in order to calculate the performance of our model (without these two methods, errors are thrown when trying to call the function).\n"
   ]
  },
  {
   "cell_type": "code",
   "execution_count": 1198,
   "metadata": {},
   "outputs": [],
   "source": [
    "class NaiveBayesClassifier:\n",
    "    def __init__(self, priors=None):\n",
    "        self.benign = Benign()\n",
    "        self.malignant = Malignant()\n",
    "        self.priors = priors if priors is not None else {}\n",
    "\n",
    "    def fit(self, x_train, y_train):\n",
    "        n_total = len(y_train)\n",
    "        n_benign = np.sum(y_train== 0)\n",
    "        n_malignant = np.sum(y_train == 1)\n",
    "        self.priors['benign'] = n_benign / n_total\n",
    "        self.priors['malignant'] = n_malignant / n_total\n",
    "        self.x_train_b = self.benign.benign_data(x_train, y_train)\n",
    "        self.mean_b = self.benign.mean(self.x_train_b)\n",
    "        self.variance_b = self.benign.variance(self.x_train_b)\n",
    "\n",
    "        self.x_train_m = self.malignant.malignant_data(x_train, y_train)\n",
    "        self.mean_m = self.malignant.mean(self.x_train_m)\n",
    "        self.variance_m = self.malignant.variance(self.x_train_m)\n",
    "\n",
    "    def predict(self, x_test):\n",
    "            \n",
    "        predictions = []\n",
    "\n",
    "        for index in range(len(x_test)):\n",
    "            #Compute probabilities, and assign the predicted class of 0 (benign) or 1 (malignant)\n",
    "            #depending on which probability is higher\n",
    "            gauss_test_B = self.benign.gaussianProbability(x_test, index, self.mean_b, self.variance_b)\n",
    "            gauss_test_M = self.malignant.gaussianProbability(x_test, index, self.mean_m, self.variance_m)\n",
    "            pred_class = 0 if gauss_test_B > gauss_test_M else 1\n",
    "            predictions.append(pred_class)\n",
    "\n",
    "        return np.array(predictions)\n",
    "\n",
    "    def get_params(self, deep=True):\n",
    "        return {'priors': self.priors}\n",
    "\n",
    "    def set_params(self, **params):\n",
    "        for key, value in params.items():\n",
    "            setattr(self, key, value)\n",
    "        return self\n"
   ]
  },
  {
   "cell_type": "markdown",
   "metadata": {},
   "source": [
    "Now that we've created our decision tree and naive bayes classifiers, we will begin the process of testing the performance and analyzing our results. Below, we've created two functions:\n",
    "\n",
    "1. test_performance() - this function has two arguments, X (the data matrix) and y (the label values). \n",
    "2. get_f1() - a helper function called by our test_performance function. This function takes four arguments - the data matrix and label values passed in from test_performance, along with the stratified k fold and classifier objects we've created. We return sklearn's cross_val_score call on our parameters, which returns an array containing the f1 scores at each fold in the cross validation."
   ]
  },
  {
   "cell_type": "code",
   "execution_count": 1199,
   "metadata": {},
   "outputs": [],
   "source": [
    "def test_performance(classifier, X, y,num_splits):\n",
    "    kfold = StratifiedKFold(n_splits=num_splits, shuffle=True)\n",
    "    f1_scores = get_f1(X, y, kfold, classifier)\n",
    "\n",
    "    mean_f1_scores = np.mean(f1_scores)\n",
    "    stdev_f1_scores = np.std(f1_scores)\n",
    "\n",
    "    return mean_f1_scores, stdev_f1_scores\n",
    "\n",
    "def get_f1(X, y, skf, classifier):\n",
    "    return cross_val_score(classifier, X, y, cv=skf, scoring=make_scorer(f1_score, average='weighted'))"
   ]
  },
  {
   "cell_type": "markdown",
   "metadata": {},
   "source": [
    "Once we've built our performance calculating functions, we want to plot our results. We call test_performance, and get the mean and standard deviation values of our f1 scores at each fold, for both of our classifiers. With these two values, we build up a plot to show each classifier's performance, along with the levels of error:"
   ]
  },
  {
   "cell_type": "code",
   "execution_count": 1224,
   "metadata": {},
   "outputs": [
    {
     "name": "stdout",
     "output_type": "stream",
     "text": [
      "Decision Tree F1 Mean: 0.936688170360771\n",
      "Decision Tree F1 Std. Dev.: 0.05889351252240883\n",
      "Naive Bayes F1 Mean: 0.9512331150102048\n",
      "Naive Bayes F1 Std. Dev.: 0.03201823828239798\n"
     ]
    },
    {
     "data": {
      "image/png": "[encoded data removed]",
      "text/plain": [
       "<Figure size 640x480 with 1 Axes>"
      ]
     },
     "metadata": {},
     "output_type": "display_data"
    }
   ],
   "source": [
    "def plot_performance(classifier_names, mean_f1, std_f1):\n",
    "    fig, ax = plt.subplots()\n",
    "    ax.bar(classifier_names, mean_f1, yerr=std_f1, color=['blue', 'red'], capsize=10)\n",
    "    ax.set_ylabel('F1 Score (mean)')\n",
    "    ax.set_title('Classifier Performance')\n",
    "    plt.show()\n",
    "\n",
    "#initialize the decision tree classifier obj and NB classifier obj\n",
    "dec_tree = DecisionTreeClassifier(maximum_tree_depth=5)\n",
    "nb = NaiveBayesClassifier()\n",
    "\n",
    "#train the classifiers on the reduced training data\n",
    "dec_tree.fit(x_train, y_train)\n",
    "nb.fit(x_train, y_train)\n",
    "\n",
    "dec_tree_mean_f1, dec_tree_std_f1 = test_performance(\n",
    "    dec_tree, \n",
    "    x_test, \n",
    "    y_test, \n",
    "    10)\n",
    "\n",
    "nb_mean_f1, nb_std_f1 = test_performance(\n",
    "    nb, \n",
    "    x_test, \n",
    "    y_test,\n",
    "    10)\n",
    "\n",
    "print(f\"Decision Tree F1 Mean: {dec_tree_mean_f1}\")\n",
    "print(f\"Decision Tree F1 Std. Dev.: {dec_tree_std_f1}\")\n",
    "print(f\"Naive Bayes F1 Mean: {nb_mean_f1}\")\n",
    "print(f\"Naive Bayes F1 Std. Dev.: {nb_std_f1}\")\n",
    "\n",
    "classifier_names = [\"Decision Tree\", \"Naive Bayes\"]\n",
    "f1_means = [dec_tree_mean_f1, nb_mean_f1]\n",
    "f1_stds = [dec_tree_std_f1, nb_std_f1]\n",
    "\n",
    "plot_performance(classifier_names, f1_means, f1_stds)"
   ]
  },
  {
   "cell_type": "markdown",
   "metadata": {},
   "source": [
    "Based on these results, we can see that both the decision tree classifier and the Naive Bayes classifier are performing well, with around a 0.94 and 0.95 mean F1 score respectively, which indicates our classifiers are effectively handling our imbalanced dataset and considering false positives and false negatives. The standard deviation for the decision tree model (roughly 0.06) tells us that the classifier is doing a reasonable (but not great) job of preventing overfitting of the data.  The Naive Bayes is performing better than the decision tree classifier, with a mean F1 score of 0.95 and a more respectable standard deviation of 0.03."
   ]
  },
  {
   "cell_type": "markdown",
   "metadata": {},
   "source": [
    "<h2>2. Dimensionality reduction with the Singular Value Decomposition [10pts]</h2>\n",
    "What to implement: The Singular Value Decomposition (SVD) is an extremely useful tool\n",
    "from linear algebra that can help us approximate a data matrix (such as the instance-by-feature matrix that represents our data) into a smaller dimension, hence reduce the dimensionality of the data. In this question you should use the SVD (you may use the existing NumPy library) to approximate the data in different ranks. Important: because we are dealing with supervised learning, given a train/test split, in order to avoid data leakage you should always make sure that you only compute the SVD on the train split and project the test instances to that space, in the same way that the Latent Semantic Analysis paper [1] does.\n",
    "<br><br>\n",
    "What to plot: You should produce a figure that shows the performance of your classifiers as\n",
    "a function of the SVD approximation rank"
   ]
  },
  {
   "cell_type": "code",
   "execution_count": 1201,
   "metadata": {},
   "outputs": [],
   "source": [
    "#first, we split our data using train/test split\n",
    "X_train, X_test, y_train, y_test = train_test_split(features, target, test_size=0.25, random_state=42)\n",
    "\n",
    "#then, utilize numpy's singluar value decomposition function on only our training split\n",
    "#this decomposes our training data matrix into three separate matrices\n",
    "U, S, Vh = np.linalg.svd(X_train)\n",
    "\n",
    "#create reduce() function with the following parameters:\n",
    "#U: the orthonormal columns of our data\n",
    "#S: the diagonal matrix of our data\n",
    "#Vh: the orthonormal rows of our data\n",
    "#rank: the rank we use to approximate the data \n",
    "def reduce(U, S, Vh, rank):\n",
    "    #reduce each of our three matrices based on the rank passed in\n",
    "    reduced_U = U[:, :rank]\n",
    "    reduced_S = np.diag(S[:rank])\n",
    "    reduced_Vh = Vh[:rank, :]\n",
    "\n",
    "    #multiply the reduced versions of U and S to get the reduced version of our original training data matrix\n",
    "    reduced_train_data = np.dot(reduced_U, reduced_S)\n",
    "    \n",
    "    return reduced_train_data"
   ]
  },
  {
   "cell_type": "markdown",
   "metadata": {},
   "source": [
    "Once we've written our code for reducing the based on the top number of singular values and vectors (our 'rank'), we now want to create a helper function to project the test data split based on reduced space we created with the SVD functionality:"
   ]
  },
  {
   "cell_type": "code",
   "execution_count": 1202,
   "metadata": {},
   "outputs": [],
   "source": [
    "def project_test(test_data, transpose_matrix):\n",
    "    return np.dot(test_data, transpose_matrix)"
   ]
  },
  {
   "cell_type": "markdown",
   "metadata": {},
   "source": [
    "Next, we want to create another helper function to evlauate our decision tree and naive bayes classifiers on the projected test data in the reduced space:"
   ]
  },
  {
   "cell_type": "code",
   "execution_count": 1203,
   "metadata": {},
   "outputs": [],
   "source": [
    "def evaluate(X_train_reduced, X_test_reduced, y_train, y_test):\n",
    "    \n",
    "    #initialize the decision tree classifier obj and NB classifier obj\n",
    "    dec_tree = DecisionTreeClassifier(maximum_tree_depth=5)\n",
    "    nb = NaiveBayesClassifier()\n",
    "\n",
    "    #train the classifiers on the reduced training data\n",
    "    dec_tree.fit(X_train_reduced, y_train)\n",
    "    nb.fit(X_train_reduced, y_train)\n",
    "\n",
    "    #calculate the performance of each classifier using the helper function\n",
    "    #test_performance() that we created earlier along in the project\n",
    "    dec_tree_mean_f1, dec_tree_stdev_f1 = test_performance(dec_tree, X_test_reduced, y_test, 10)\n",
    "    nb_mean_f1, nb_stdev_f1 = test_performance(nb, X_test_reduced, y_test, 10)\n",
    "\n",
    "    print(f\"dec_tree_mean_f1: {dec_tree_mean_f1}\")\n",
    "    print(f\"dec_tree_stdev_f1: {dec_tree_stdev_f1}\")\n",
    "    print(f\"nb_mean_f1: {nb_mean_f1}\")\n",
    "    print(f\"nb_stdev_f1: {nb_stdev_f1}\")\n",
    "\n",
    "    #only returning the mean values since these are what we're plotting on our SVD approx. graph\n",
    "    return dec_tree_mean_f1, nb_mean_f1"
   ]
  },
  {
   "cell_type": "markdown",
   "metadata": {},
   "source": [
    "Once we've created our evaluate function, we can begin evaluating the performance of each of our classifiers across different ranks (or number of utilized features). For sake of performance, we've gone ahead and created a ranks list containing intervals of 5 up to 30, the total number of features we have originally. <br><br>\n",
    "We iterate over each rank, evaluate our classifiers performance at each once, then create a plot displaying the respective mean F1 scores for each classifier."
   ]
  },
  {
   "cell_type": "code",
   "execution_count": 1220,
   "metadata": {},
   "outputs": [
    {
     "name": "stdout",
     "output_type": "stream",
     "text": [
      "---------------\n",
      "Rank -10-\n",
      "X_train_reduced shape -(426, 10)-\n",
      "X_test_reduced shape -(143, 10)-\n",
      "dec_tree_mean_f1: 0.9157683389881532\n",
      "dec_tree_stdev_f1: 0.06893710222064715\n",
      "nb_mean_f1: 0.9520769770305375\n",
      "nb_stdev_f1: 0.060085962664270576\n",
      "---------------\n",
      "Rank -20-\n",
      "X_train_reduced shape -(426, 20)-\n",
      "X_test_reduced shape -(143, 20)-\n",
      "dec_tree_mean_f1: 0.92085635812416\n",
      "dec_tree_stdev_f1: 0.06784968923071986\n",
      "nb_mean_f1: 0.9437992210747629\n",
      "nb_stdev_f1: 0.04258798752914564\n",
      "---------------\n",
      "Rank -30-\n",
      "X_train_reduced shape -(426, 30)-\n",
      "X_test_reduced shape -(143, 30)-\n",
      "dec_tree_mean_f1: 0.9363439871102409\n",
      "dec_tree_stdev_f1: 0.0664434524563706\n",
      "nb_mean_f1: 0.9356949302847136\n",
      "nb_stdev_f1: 0.05943782333201642\n"
     ]
    },
    {
     "data": {
      "image/png": "[encoded data removed]",
      "text/plain": [
       "<Figure size 1000x600 with 1 Axes>"
      ]
     },
     "metadata": {},
     "output_type": "display_data"
    }
   ],
   "source": [
    "rank_list = [10, 20, 30]\n",
    "dec_tree_f1_per_rank = []\n",
    "nb_f1_per_rank = []\n",
    "\n",
    "for rank in rank_list:\n",
    "    #reduce the training data using SVD\n",
    "    X_train_reduced = reduce(U, S, Vh, rank)\n",
    "    \n",
    "    #reduce the test data to match the training data\n",
    "    Vh_reduced = Vh[:rank, :]\n",
    "    X_test_reduced = project_test(X_test, np.transpose(Vh_reduced))\n",
    "\n",
    "    print(\"---------------\")\n",
    "    print(f\"Rank -{rank}-\")\n",
    "    print(f\"X_train_reduced shape -{X_train_reduced.shape}-\") \n",
    "    print(f\"X_test_reduced shape -{X_test_reduced.shape}-\")\n",
    "\n",
    "    scaler = StandardScaler()\n",
    "    X_train_reduced = scaler.fit_transform(X_train_reduced)\n",
    "    X_test_reduced = scaler.transform(X_test_reduced)\n",
    "    \n",
    "    #evaluate our classifier performances on the reduced train and test data\n",
    "    dec_tree_f1, nb_f1 = evaluate(X_train_reduced, X_test_reduced, y_train, y_test)\n",
    "    dec_tree_f1_per_rank.append(dec_tree_f1)\n",
    "    nb_f1_per_rank.append(nb_f1)\n",
    "\n",
    "plt.figure(figsize=(10, 6))\n",
    "plt.plot(rank_list, dec_tree_f1_per_rank, label='Decision Tree', marker='o', color='blue')\n",
    "plt.plot(rank_list, nb_f1_per_rank, label='Naive Bayes', marker='o', color='red')\n",
    "plt.xlabel('Rank')\n",
    "plt.ylabel('Mean F1 Score')\n",
    "plt.title('Classifier Performance Using Singular Value Decomposition')\n",
    "plt.legend()\n",
    "plt.grid(True)\n",
    "plt.show()\n"
   ]
  },
  {
   "cell_type": "markdown",
   "metadata": {},
   "source": [
    "Given the graph above, we can see our mean F1 scores for the decision tree and Naive Bayes classifiers differ depending on the number of features utilized when training. We believe the steady decline in mean F1 score for the NB classifier could potentially be attributed to its assumption of independence between each feature, therefore struggling as more features are added. On the flip side, the DT classifier is able to maintain a higher mean F1 with more features, as it does a better job capturing and understanding complex feature interactions and dependencies."
   ]
  },
  {
   "cell_type": "markdown",
   "metadata": {},
   "source": [
    "<h2>3. Feature selection with randomization [15pts]</h2>\n",
    "\n",
    "What to implement: Randomization is a very powerful tool in helping us understand whether a piece of data contains useful information for a given task or whether the information contained is close to random. In this question you should implement the following feature selection technique which randomizes each feature of the data and measures how predictive it is for our task. In order to avoid data leakage, for this question only you should conduct the feature selection on a 20% stratified random sample of the entire dataset, leaving the rest 80as the data on which you will report the performance on your plot.\n",
    "<br>\n",
    "• For every feature, generate a copy of the dataset where that feature values are randomized (i.e., randomly permuted)\n",
    "<br>\n",
    "• Train two versions of the model, one with the actual data and one with the data that contains the randomized feature.\n",
    "<br>\n",
    "• Test on part of the hold out that is for validation and use the difference in performance as a score for that feature.\n",
    "<br>\n",
    "• Steps b and c should be done as part of 5-fold cross-validation train/test splits on the feature selection sample and produce an average F1 score for each of the two models (regular and “randomized feature”)\n",
    "<br>\n",
    "• If randomization of the feature results in a drop of performance, the percentage of the drop can be used to characterize how important this feature is for the task\n",
    "<br>\n",
    "• Repeat for all features and rank features according to the above metric, from most pre- dictive to least predictive \n",
    "<br>\n",
    "What to plot (2 figures in total): A bar chart that shows each feature and the calculated importance."
   ]
  },
  {
   "cell_type": "markdown",
   "metadata": {},
   "source": [
    "The permutatingColumn method takes a copy of original dataset and randomly permutates a column with the excpetion of target column 'Diagnosis'.  The column that was randomly permutated gets returned.  "
   ]
  },
  {
   "cell_type": "code",
   "execution_count": 1205,
   "metadata": {},
   "outputs": [],
   "source": [
    "#Creating a copy of original dataset for random permutation\n",
    "\n",
    "#Method that loops through all columns and randomly permutates each feature\n",
    "def permutatingColumn(data,column_index, target_col_index):\n",
    "    random_perm_data = data.copy()\n",
    "    if column_index != target_col_index:\n",
    "        random_perm_data[:, column_index] = np.random.permutation(random_perm_data[:, column_index])\n",
    "    return random_perm_data\n"
   ]
  },
  {
   "cell_type": "markdown",
   "metadata": {},
   "source": [
    "Splitting the datset to set up for model training.  As detailed in the instructions, one of the model trainings will follow our standard dataset while the second one incorporates 20% stratified random sampling and the remaining 80% for testing will consist purely of the original dataset.  In order to keep data consistent with the classifiers written from scratch, encoding of the target feature Diagnosis was applied on the randomly permutated dataset.  \n",
    "- 20% of dataset is used to randomly shuffle all features\n",
    "- 80% dataset is untouched and used for testing at the end"
   ]
  },
  {
   "cell_type": "code",
   "execution_count": 1206,
   "metadata": {},
   "outputs": [],
   "source": [
    "#Feature selection on the 20% stratified random sample of entire dataset\n",
    "\n",
    "feature_selection_data, model_training_data = train_test_split(data, test_size=0.8, random_state=42, stratify=data['Diagnosis'])\n",
    "x_selection = feature_selection_data.drop(columns=['Diagnosis']).values\n",
    "y_selection = feature_selection_data['Diagnosis'].map({'M': 1, 'B': 0}).values\n",
    "x_holdout = model_training_data.drop(columns=['Diagnosis']).values\n",
    "y_holdout = model_training_data['Diagnosis'].map({'M': 1, 'B': 0}).values\n"
   ]
  },
  {
   "cell_type": "markdown",
   "metadata": {},
   "source": [
    "Below is where we start training the model with the created method dual_model_performance.  Both Decision Tree & Naive Bayes classifier are evaluated on a five fold cross validation.  The dataset copy containing a randomly permutated column gets evaluated in the two classifiers alongside the original dataset for a baseline comparison.  A comparison dictionary is created at the end of this function containing the following keys:\n",
    "\n",
    "- decisionTree_original: F1 mean of original dataset\n",
    "- decisitonTree_random: F1 mean of randomly permutated feature dataset\n",
    "- naiveBayes_original: F1 mean of orignal dataset\n",
    "- naiveBayes_random: F1 mean of randomly permutated feature dataset\n",
    "- decisionTree_difference: absolute value difference between F1 means of original and randomly permutated feature dataset\n",
    "- naiveBayes_difference: absolute value difference between F1 means of original and randomly permutated feature dataset\n",
    "- decisionTree_percentDrop: percent change exhibiting in Decision Tree classifier when one feature gets randomly permutated\n",
    "- naiveBayes_percentDrop: percent change exhibiting in Naive Bayes classifier when one feature gets randomly permutated"
   ]
  },
  {
   "cell_type": "code",
   "execution_count": 1207,
   "metadata": {},
   "outputs": [],
   "source": [
    "#Creating method that evaluates and compares both models against OG & randomized datasets\n",
    "def dual_model_performance(model1, model2, x_train, y_train, x_test, y_test, x_train_R, y_train_R, x_test_R, y_test_R):\n",
    "    #Evaluating Decision Tree model on original dataset\n",
    "    model1.fit(x_train, y_train)\n",
    "    dec_tree_mean_f1, dec_tree_std_f1 = test_performance(\n",
    "        DecisionTreeClassifier(maximum_tree_depth=5), x_test, y_test, 5)\n",
    "    \n",
    "    #Re-evaluate Decision Tree model on randomly permutated dataset\n",
    "    model1.fit(x_train_R, y_train_R)\n",
    "    dec_tree_r_mean_f1, dec_tree_r_std_f1 = test_performance(\n",
    "        DecisionTreeClassifier(maximum_tree_depth=5), x_test_R, y_test_R, 5)\n",
    "\n",
    "    #Evaluating Naive Bayes on original dataset\n",
    "    model2 = NaiveBayesClassifier()\n",
    "    model2.fit(x_train, y_train)\n",
    "    nb_mean_f1, nb_std_f1 = test_performance(\n",
    "        NaiveBayesClassifier(), x_test, y_test, 5)\n",
    "    \n",
    "    #Re-evaluate Naive Bayes model on randomly permutated dataset\n",
    "    model2 = NaiveBayesClassifier()\n",
    "    model2.fit(x_train_R, y_train_R)\n",
    "    nb_r_mean_f1, nb_r_std_f1 = test_performance(\n",
    "        NaiveBayesClassifier(), x_test_R, y_test_R, 5)\n",
    "\n",
    "#Generating a comparision dictionary to store results\n",
    "    comparisonModels = { \n",
    "        'decisionTree_original': dec_tree_mean_f1, \n",
    "        'decisionTree_random': dec_tree_r_mean_f1,\n",
    "        'naiveBayes_original': nb_mean_f1,\n",
    "        'naiveBayes_random': nb_r_mean_f1,\n",
    "        'decisionTree_difference': abs(dec_tree_mean_f1 - dec_tree_r_mean_f1),\n",
    "        'naiveBayes_difference': abs(nb_mean_f1 - nb_r_mean_f1),\n",
    "        'decisionTree_percentDrop' : (abs(dec_tree_mean_f1 - dec_tree_r_mean_f1)/dec_tree_mean_f1) * 100,\n",
    "        'naiveBayes_percentDrop' : (abs(nb_mean_f1 - nb_r_mean_f1)/nb_mean_f1) * 100\n",
    "    }\n",
    "\n",
    "    return comparisonModels\n"
   ]
  },
  {
   "cell_type": "markdown",
   "metadata": {},
   "source": [
    "After establishing a method to evaluate performance of both datasets on the Decision Tree & Naive Bayes classifier, features pass through a loop where they individually will get randomly permutated to see how important they are to this dataset.\n",
    "\n",
    "\n",
    "\n",
    "rp_data variable represents the training data containing a randomly permutating column.  It utilizes one of the initial methods permutating columns to randomly permutate a column in the copied dataset.  The loop is set up to ensure all features will be the feature randomly permutated in the dataset copy.\n",
    "\n",
    "\n",
    "The feature_importanceScore dictionary stores feature_index being tested and the percentDrop calculated for both classifiers."
   ]
  },
  {
   "cell_type": "code",
   "execution_count": 1208,
   "metadata": {},
   "outputs": [],
   "source": [
    "target_col_index = 0\n",
    "feature_importanceScore = []\n",
    "\n",
    "dt = DecisionTreeClassifier(maximum_tree_depth=5)\n",
    "nb = NaiveBayesClassifier()\n",
    "\n",
    "#Looping through the features indexes of all columns in training data\n",
    "for feature_index in range(x_selection.shape[1]):\n",
    "    rp_data = permutatingColumn(x_selection, feature_index, target_col_index)\n",
    "    comparison = dual_model_performance(\n",
    "        model1=dt,\n",
    "        model2=nb,\n",
    "        x_train=x_selection, y_train=y_selection,\n",
    "        x_test=x_selection, y_test=y_selection,\n",
    "        x_train_R=rp_data, y_train_R=y_selection,\n",
    "        x_test_R=x_selection, y_test_R=y_selection\n",
    "    )\n",
    "    feature_importanceScore.append({\n",
    "        'feature_index': feature_index, \n",
    "        'percentDrop_DT': comparison.get('decisionTree_percentDrop'),\n",
    "        'percentDrop_NB': comparison['naiveBayes_percentDrop']\n",
    "    })\n"
   ]
  },
  {
   "cell_type": "markdown",
   "metadata": {},
   "source": [
    "The features are sorted within method sortedFeatureImportance based on which randomly permutated features resulted in the biggest change in performance after being tested by the two classifiers.  \n",
    "\n",
    "The sortedFeatures variable sorts the percent drop in performance of the two classifiers in descending order (reverse = True). Lambda function key helps iterate over all percent drops to arrange in descending order.\n",
    "Each feature index is matched with the feature name based on column names assigned at the very beginning section of this code.  An offset of 2 is added since ID column got dropped due to not being a value add and 'Diagnosis' is the target feature not utilized in training data set.\n",
    "\n",
    "After rankedFeatures is returned at end of method, two variables for Decision Tree & Naive Bayes Classiers are set up calling the top 10 indexes within the sortedFeatureImportance method to rank the top 10 features for each classifier"
   ]
  },
  {
   "cell_type": "code",
   "execution_count": 1209,
   "metadata": {},
   "outputs": [
    {
     "name": "stdout",
     "output_type": "stream",
     "text": [
      "Feature: fractal_dimension3 - DT % Drop: 10.023326150951167\n",
      "Feature: compactness1 - DT % Drop: 9.459392063577097\n",
      "Feature: concavity1 - DT % Drop: 8.458214142453526\n",
      "Feature: compactness3 - DT % Drop: 7.627908922673618\n",
      "Feature: texture2 - DT % Drop: 5.543594907533473\n",
      "Feature: concave_points1 - DT % Drop: 5.351623944368709\n",
      "Feature: area2 - DT % Drop: 4.695581602380643\n",
      "Feature: perimeter3 - DT % Drop: 4.445924309370964\n",
      "Feature: smoothness3 - DT % Drop: 3.92673383981536\n",
      "Feature: concave_points3 - DT % Drop: 3.8898322017995186\n",
      "Feature: area1 - DT % Drop: 2.766956882403036\n",
      "Feature: symmetry1 - DT % Drop: 2.6430683304862765\n",
      "Feature: area3 - DT % Drop: 2.3119521465306145\n",
      "Feature: radius2 - DT % Drop: 2.185445314839641\n",
      "Feature: symmetry3 - DT % Drop: 2.0293398140288654\n",
      "Feature: symmetry2 - DT % Drop: 1.9430135645051927\n",
      "Feature: concave_points2 - DT % Drop: 1.7728949513934986\n",
      "Feature: fractal_dimension2 - DT % Drop: 1.1501375968680712\n",
      "Feature: compactness2 - DT % Drop: 1.0999678775134833\n",
      "Feature: concavity2 - DT % Drop: 1.0590792550180153\n",
      "Feature: texture1 - DT % Drop: 1.0437866978628534\n",
      "Feature: perimeter1 - DT % Drop: 1.011202858983749\n",
      "Feature: texture3 - DT % Drop: 0.8875087613104938\n",
      "Feature: radius3 - DT % Drop: 0.8667332926544487\n",
      "Feature: smoothness1 - DT % Drop: 0.5896683778595961\n",
      "Feature: perimeter2 - DT % Drop: 0.425705937929299\n",
      "Feature: concavity3 - DT % Drop: 0.3712043180287512\n",
      "Feature: smoothness2 - DT % Drop: 0.27884633230789896\n",
      "Feature: radius1 - DT % Drop: 0.19061163795849126\n",
      "Feature: fractal_dimension1 - DT % Drop: 0.008700967485521714\n",
      "Feature: smoothness3 - NB % Drop: 3.60414662501429\n",
      "Feature: symmetry3 - NB % Drop: 2.934672020007872\n",
      "Feature: symmetry2 - NB % Drop: 2.762437454942278\n",
      "Feature: compactness2 - NB % Drop: 2.6150798737562697\n",
      "Feature: compactness1 - NB % Drop: 2.376627343921629\n",
      "Feature: area2 - NB % Drop: 2.0968880219874553\n",
      "Feature: area1 - NB % Drop: 2.03384185708844\n",
      "Feature: compactness3 - NB % Drop: 1.9992716642138704\n",
      "Feature: area3 - NB % Drop: 1.875787361198938\n",
      "Feature: smoothness1 - NB % Drop: 1.8670131306003184\n",
      "Feature: concave_points1 - NB % Drop: 1.8340854912253068\n",
      "Feature: concave_points3 - NB % Drop: 1.788158961676144\n",
      "Feature: concavity1 - NB % Drop: 1.7749459103540337\n",
      "Feature: smoothness2 - NB % Drop: 1.7727416351036818\n",
      "Feature: radius3 - NB % Drop: 1.0713506878242418\n",
      "Feature: fractal_dimension1 - NB % Drop: 0.9920678470193773\n",
      "Feature: concavity3 - NB % Drop: 0.887053278646392\n",
      "Feature: perimeter1 - NB % Drop: 0.8837809788350465\n",
      "Feature: texture1 - NB % Drop: 0.8278267318328302\n",
      "Feature: texture3 - NB % Drop: 0.8106468418848293\n",
      "Feature: radius2 - NB % Drop: 0.8096124549322778\n",
      "Feature: perimeter2 - NB % Drop: 0.7982772078827184\n",
      "Feature: fractal_dimension2 - NB % Drop: 0.7948445580387921\n",
      "Feature: fractal_dimension3 - NB % Drop: 0.7880222847836222\n",
      "Feature: radius1 - NB % Drop: 0.7650563143416408\n",
      "Feature: perimeter3 - NB % Drop: 0.20324600635957918\n",
      "Feature: symmetry1 - NB % Drop: 0.1265393199337097\n",
      "Feature: texture2 - NB % Drop: 0.08114236759976116\n",
      "Feature: concave_points2 - NB % Drop: 0.037122722847478355\n",
      "Feature: concavity2 - NB % Drop: 0.026326140221701273\n"
     ]
    }
   ],
   "source": [
    "def sortedFeatureImportance(feature_importanceScore, columns, classifier):\n",
    "    sorted_features = sorted(feature_importanceScore, key=lambda x: x[f'percentDrop_{classifier}'], reverse=True)\n",
    "    rankedFeatures = []\n",
    "    for feature in sorted_features:\n",
    "        feature_index = feature['feature_index']\n",
    "        #Adding 2 to skip Diagnosis & ID Columns\n",
    "        feature_name = columns[feature_index + 2]\n",
    "        percentDrop = feature[f'percentDrop_{classifier}']\n",
    "        rankedFeatures.append((feature_name, percentDrop))\n",
    "        print(f\"Feature: {feature_name} - {classifier} % Drop: {feature[f'percentDrop_{classifier}']}\")\n",
    "    return rankedFeatures\n",
    "\n",
    "featureRank_DT = sortedFeatureImportance(feature_importanceScore, columns, 'DT')\n",
    "featureRank_NB = sortedFeatureImportance(feature_importanceScore, columns, 'NB')\n",
    "\n",
    "topFeatures_DT = [feature[0] for feature in featureRank_DT[:10]]\n",
    "topFeatures_NB = [feature[0] for feature in featureRank_NB[:10]]\n"
   ]
  },
  {
   "cell_type": "markdown",
   "metadata": {},
   "source": [
    "After calculating the features with the highest % drop in performance when removed, we determined the top 10 most important features for our Decision Tree and Naive Bayes classifiers are as follows:"
   ]
  },
  {
   "cell_type": "code",
   "execution_count": 1210,
   "metadata": {},
   "outputs": [
    {
     "name": "stdout",
     "output_type": "stream",
     "text": [
      "Decision Tree - Top 10 Important Features: ['fractal_dimension3', 'compactness1', 'concavity1', 'compactness3', 'texture2', 'concave_points1', 'area2', 'perimeter3', 'smoothness3', 'concave_points3']\n",
      "Naive Bayes - Top 10 Important Features: ['smoothness3', 'symmetry3', 'symmetry2', 'compactness2', 'compactness1', 'area2', 'area1', 'compactness3', 'area3', 'smoothness1']\n"
     ]
    }
   ],
   "source": [
    "print(f\"Decision Tree - Top 10 Important Features: {topFeatures_DT}\")\n",
    "print(f\"Naive Bayes - Top 10 Important Features: {topFeatures_NB}\")"
   ]
  },
  {
   "cell_type": "code",
   "execution_count": 1218,
   "metadata": {},
   "outputs": [
    {
     "data": {
      "image/png": "[encoded data removed]",
      "text/plain": [
       "<Figure size 1000x600 with 1 Axes>"
      ]
     },
     "metadata": {},
     "output_type": "display_data"
    },
    {
     "name": "stdout",
     "output_type": "stream",
     "text": [
      "DT (All) Mean F1: 0.9253731534908647\n",
      "DT (All) Std Dev: 0.06050263312421691\n",
      "DT (Top 10) Mean F1: 0.9334909193919557\n",
      "DT (Top 10) Std Dev: 0.03330222593282548\n",
      "NB (All) Mean F1: 0.9339917945382361\n",
      "NB (All) Std Dev: 0.056698586338404876\n",
      "NB (Top 10) Mean F1: 0.923485949499249\n",
      "NB (Top 10) Std Dev: 0.03969099472209718\n"
     ]
    }
   ],
   "source": [
    "#Get the data from just top 10 most important features in our 80% split\n",
    "X_top10_DT = model_training_data[topFeatures_DT].values\n",
    "X_top10_NB = model_training_data[topFeatures_NB].values\n",
    "\n",
    "dec_tree_classifier = DecisionTreeClassifier(maximum_tree_depth=5)\n",
    "nb_classifier = NaiveBayesClassifier()\n",
    "\n",
    "#Call test_performance to get model performances for all features and top 10 features\n",
    "dt_all_mean, dt_all_std = test_performance(dec_tree_classifier, x_holdout, y_holdout, 10)\n",
    "dt_top10_mean, dt_top10_std = test_performance(dec_tree_classifier, X_top10_DT, y_holdout, 10)\n",
    "nb_all_mean, nb_all_std = test_performance(nb_classifier, x_holdout, y_holdout, 10)\n",
    "nb_top10_mean, nb_top10_std = test_performance(nb_classifier, X_top10_NB, y_holdout, 10)\n",
    "\n",
    "classifier_names = [\n",
    "    \"DT (All)\", \n",
    "    \"DT (Top 10)\", \n",
    "    \"NB (All)\", \n",
    "    \"NB (Top 10)\"\n",
    "]\n",
    "mean_f1_scores = [dt_all_mean, dt_top10_mean, nb_all_mean, nb_top10_mean]\n",
    "std_f1_scores = [dt_all_std, dt_top10_std, nb_all_std, nb_top10_std]\n",
    "\n",
    "plt.figure(figsize=(10, 6))\n",
    "plt.bar(classifier_names, mean_f1_scores, yerr=std_f1_scores, capsize=10, color=['blue', 'blue', 'red', 'red'])\n",
    "plt.ylabel('Mean F1 Score')\n",
    "plt.xlabel('Classifier / # Features')\n",
    "plt.title('Classifier Performance')\n",
    "plt.tight_layout()\n",
    "plt.show()\n",
    "\n",
    "print(f\"DT (All) Mean F1: {dt_all_mean}\")\n",
    "print(f\"DT (All) Std Dev: {dt_all_std}\")\n",
    "print(f\"DT (Top 10) Mean F1: {dt_top10_mean}\")\n",
    "print(f\"DT (Top 10) Std Dev: {dt_top10_std}\")\n",
    "print(f\"NB (All) Mean F1: {nb_all_mean}\")\n",
    "print(f\"NB (All) Std Dev: {nb_all_std}\")\n",
    "print(f\"NB (Top 10) Mean F1: {nb_top10_mean}\")\n",
    "print(f\"NB (Top 10) Std Dev: {nb_top10_std}\")"
   ]
  },
  {
   "cell_type": "markdown",
   "metadata": {},
   "source": [
    "After looking at our models' performances when using all features and the top 10 most important features for each model, we can see that the Decision Tree classifier performs slightly better when utilizing only the top 10 features, and also decreases its error margin significantly from .06 to .03. The Naive Bayes classifier has a slightly worse mean F1 score when utilizing only the top 10 features, but also decreases its margin of error significantly from over .05 to .03. This aligns with the sample size for both models since the top 10 features have less datapoints, and should therefore have a tighter error margin."
   ]
  },
  {
   "cell_type": "markdown",
   "metadata": {},
   "source": [
    "<h2>4. Data augmentation using SMOTE [10pts]</h2>\n",
    "\n",
    "What to implement: As we saw in class, SMOTE is one of the earliest and very successful data augmentation (or minority class oversampling) techniques. You can use the pseudocode included in the original SMOTE paper [2] as a basis for your implementation.<br><br>\n",
    "What to plot: The performance of your classifiers as a function of the percentage of oversampled minority samples (100%, 200%, 300%) for k = 1, and k = 5. This plot should contain 2 lines per classifier (one for each k)"
   ]
  },
  {
   "cell_type": "markdown",
   "metadata": {},
   "source": [
    "To perform our SMOTE implementation, first we created a function to figure out what the minority class is in the sample. This function get_minority() returns the minority label for benign or malignant (as 0 or 1) along with the indices of these minority records:"
   ]
  },
  {
   "cell_type": "code",
   "execution_count": 1212,
   "metadata": {},
   "outputs": [],
   "source": [
    "def identify_minority(sample):\n",
    "\n",
    "    label_counts = Counter(sample)\n",
    "    minority_label = min(label_counts, key=label_counts.get)\n",
    "    minority_indices = np.where(sample == minority_label)[0]\n",
    "    return minority_label, minority_indices"
   ]
  },
  {
   "cell_type": "markdown",
   "metadata": {},
   "source": [
    "Next, we create a function to get the K nearest neighbors to the minority samples:"
   ]
  },
  {
   "cell_type": "code",
   "execution_count": 1213,
   "metadata": {},
   "outputs": [],
   "source": [
    "def get_nn(min_samples, k_neighbors):\n",
    "    nn = NearestNeighbors(n_neighbors=k_neighbors).fit(min_samples)\n",
    "    return nn.kneighbors(min_samples, return_distance=False)"
   ]
  },
  {
   "cell_type": "markdown",
   "metadata": {},
   "source": [
    "Then we create a function <b>create_synthetics</b> to generate the samples from our minority sample. We pass three parameters into this function: <br><br>\n",
    "min_samples: the minority samples we want to generate the synthetic samples from<br><br>\n",
    "neighbors: the neighbors we determined using our previous get_nn() function <br><br>\n",
    "n: the number of synthetic samples we want to create\n"
   ]
  },
  {
   "cell_type": "code",
   "execution_count": 1214,
   "metadata": {},
   "outputs": [],
   "source": [
    "def create_synthetics(min_samples, neighbors, n):\n",
    "    synthetics = []    \n",
    "    for i in range(n):\n",
    "        #grab a random min sample from our min samples\n",
    "        random_index = np.random.randint(0, min_samples.shape[0])\n",
    "        min_sample = min_samples[random_index]\n",
    "\n",
    "        neighbor_indices = neighbors[random_index][1:]\n",
    "        \n",
    "        #skip sample if it doesnt have any neighbors\n",
    "        if len(neighbor_indices) == 0:\n",
    "            continue\n",
    "        \n",
    "        #grab a random nearest neighbor from our min sample, excluding itself\n",
    "        n_index = np.random.choice(neighbors[random_index][1:])\n",
    "        n_sample = min_samples[n_index]\n",
    "        \n",
    "        #create the new synthetic sample from the neighbor sample and min sample\n",
    "        delta = n_sample - min_sample\n",
    "        synthetic = min_sample + np.random.rand() * delta\n",
    "        synthetics.append(synthetic)\n",
    "    \n",
    "    return np.array(synthetics) if synthetics else np.empty((0, min_samples.shape[1]))\n"
   ]
  },
  {
   "cell_type": "markdown",
   "metadata": {},
   "source": [
    "Next we create another helper function <b>integrate_synthetics()</b> - this function takes our newly created synthetic samples and integrates them back into the original data:"
   ]
  },
  {
   "cell_type": "code",
   "execution_count": 1215,
   "metadata": {},
   "outputs": [],
   "source": [
    "def integrate_synthetics(og_data, og_labels, synthetics, min_class):\n",
    "    #integrate the original data with the synthetic samples\n",
    "    #and the original labels with the synthetic labels\n",
    "    integrated_data = np.vstack([og_data, synthetics])\n",
    "    synthetic_labels = np.full(synthetics.shape[0], min_class)\n",
    "    integrated_labels = np.hstack([og_labels, synthetic_labels])\n",
    "    \n",
    "    return integrated_data, integrated_labels"
   ]
  },
  {
   "cell_type": "markdown",
   "metadata": {},
   "source": [
    "Now that we've created all the necessary helper functions, we can create our SMOTE functionality. Using this <b>smote()</b> function, we will be able to create new minority samples in our dataset that will hopefully help our classifier performance:"
   ]
  },
  {
   "cell_type": "code",
   "execution_count": 1216,
   "metadata": {},
   "outputs": [],
   "source": [
    "def smote(X, y, min_class, oversample_pct, k):\n",
    "    #get the minority samples from our original dataset\n",
    "    min_class, min_indices = identify_minority(y)\n",
    "    min_samples = X[min_indices]\n",
    "\n",
    "    #get the k nearest neighbors to our min samples\n",
    "    nn = get_nn(min_samples, k)\n",
    "    \n",
    "    #calculate the number of synthetic samples to generate, based on the pct oversample passed in\n",
    "    #then generate this number of synthetics\n",
    "    synthetics = create_synthetics(\n",
    "        min_samples, \n",
    "        nn,\n",
    "        int(min_samples.shape[0] * oversample_pct)\n",
    "    )\n",
    " \n",
    "    # print(f\"Original X shape: {X.shape}, y shape: {y.shape}\")\n",
    "    # print(f\"Synthetic samples shape: {synthetics.shape}\")\n",
    "    \n",
    "    X_resampled, y_resampled = integrate_synthetics(X, y, synthetics, min_class)\n",
    "    # print(f\"Resampled X shape: {X_resampled.shape}, y shape: {y_resampled.shape}\")\n",
    "\n",
    "    #return the combined original and synthetic data and labels\n",
    "    return X_resampled, y_resampled"
   ]
  },
  {
   "cell_type": "markdown",
   "metadata": {},
   "source": [
    "Now that we've created our SMOTE function, we will evaluate the performance of our classifiers using it. Per the assignment, we will use oversampling percentages of 100, 200, and 300, and we will use k values of 1 and 5 neighbors:"
   ]
  },
  {
   "cell_type": "code",
   "execution_count": 1217,
   "metadata": {},
   "outputs": [
    {
     "data": {
      "image/png": "[encoded data removed]",
      "text/plain": [
       "<Figure size 1000x600 with 1 Axes>"
      ]
     },
     "metadata": {},
     "output_type": "display_data"
    }
   ],
   "source": [
    "X_train, X_test, y_train, y_test = train_test_split(features, target, test_size=0.25, random_state=42)\n",
    "\n",
    "oversampling_percentages = [1.0, 2.0, 3.0]\n",
    "k_values = [1, 5]\n",
    "dec_tree_f1_scores_k1 = []\n",
    "nb_f1_scores_k1 = []\n",
    "dec_tree_f1_scores_k5 = []\n",
    "nb_f1_scores_k5 = []\n",
    "\n",
    "def smote_eval(X_train, y_train, X_test, y_test, k_neighbors, oversample_pct):\n",
    "\n",
    "    X_train_resampled, y_train_resampled = smote(X_train, y_train, min_class=1, oversample_pct=oversample_pct, k=k_neighbors)\n",
    "\n",
    "    #initialize and evaluate our DT classifier using SMOTE\n",
    "    dec_tree = DecisionTreeClassifier(maximum_tree_depth=5)\n",
    "    dec_tree.fit(X_train_resampled, y_train_resampled)    \n",
    "    dec_tree_mean_f1, _ = test_performance(dec_tree, X_test, y_test, 10)\n",
    "\n",
    "    #initialize and evaluate our NB classifier using SMOTE\n",
    "    nb = NaiveBayesClassifier()\n",
    "    nb.fit(X_train_resampled, y_train_resampled)\n",
    "    nb_mean_f1, _ = test_performance(nb, X_test, y_test, 10)  # Use X_test, y_test here\n",
    "\n",
    "    return dec_tree_mean_f1, nb_mean_f1\n",
    "\n",
    "#for each of our oversampling percentages, we evaluate our classifiers using SMOTE at KNN of 1 and 5\n",
    "for pct in oversampling_percentages:\n",
    "\n",
    "    dec_tree_f1_k1, nb_f1_k1 = smote_eval(X_train, y_train, X_test, y_test, k_neighbors=1, oversample_pct=pct)\n",
    "    dec_tree_f1_scores_k1.append(dec_tree_f1_k1)\n",
    "    nb_f1_scores_k1.append(nb_f1_k1)\n",
    "    \n",
    "    dec_tree_f1_k5, nb_f1_k5 = smote_eval(X_train, y_train, X_test, y_test, k_neighbors=5, oversample_pct=pct)\n",
    "    dec_tree_f1_scores_k5.append(dec_tree_f1_k5)\n",
    "    nb_f1_scores_k5.append(nb_f1_k5)\n",
    "\n",
    "plt.figure(figsize=(10, 6))\n",
    "plt.plot([100, 200, 300], dec_tree_f1_scores_k1, label='Decision Tree (k=1)', marker='o', color='blue')\n",
    "plt.plot([100, 200, 300], dec_tree_f1_scores_k5, label='Decision Tree (k=5)', marker='o', color='darkblue')\n",
    "plt.plot([100, 200, 300], nb_f1_scores_k1, label='Naive Bayes (k=1)', marker='o', color='red')\n",
    "plt.plot([100, 200, 300], nb_f1_scores_k5, label='Naive Bayes (k=5)', marker='o', color='magenta')\n",
    "plt.xlabel('% Oversampled')\n",
    "plt.ylabel('Mean F1 Score')\n",
    "plt.title('SMOTE Classifier Performance')\n",
    "plt.legend()\n",
    "plt.grid(True)\n",
    "plt.show()\n"
   ]
  },
  {
   "cell_type": "markdown",
   "metadata": {},
   "source": [
    "We can see some interesting patterns revealed when looking at our classifiers' performance using the SMOTE technique. First, it appears that the Decision Tree classifier takes very well to oversampling with additional synthetic data.  As seen from chart, Naive Bayesclassifier performs better at all quantifications of kNeighbor and all sampling percentages than it does without any type of oversampling.  It performs best at 300% oversampling at k=5, indicating that more synthetic samples may increase the model's overall performance.\n",
    "<br><br>\n",
    "\n",
    "It does not look like oversampling with synthetic data has same positive impact on model performance for Decision Tree classifier as it does with Naive Bayes classifier.  We assumed that this is related to the feature indpendence assumption taken by Naive Bayes, which is less sensitive to class imbalance."
   ]
  }
 ],
 "metadata": {
  "kernelspec": {
   "display_name": "Python 3",
   "language": "python",
   "name": "python3"
  },
  "language_info": {
   "codemirror_mode": {
    "name": "ipython",
    "version": 3
   },
   "file_extension": ".py",
   "mimetype": "text/x-python",
   "name": "python",
   "nbconvert_exporter": "python",
   "pygments_lexer": "ipython3",
   "version": "3.10.4"
  }
 },
 "nbformat": 4,
 "nbformat_minor": 2
}
