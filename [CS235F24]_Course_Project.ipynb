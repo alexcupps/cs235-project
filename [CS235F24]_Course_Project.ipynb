{
 "cells": [
  {
   "cell_type": "markdown",
   "metadata": {},
   "source": [
    "CS235 Project - Fall 2024\n",
    "- Alex Cupps (acupp002)\n",
    "- Zach Schwartz (zschw004)"
   ]
  },
  {
   "cell_type": "code",
   "execution_count": 490,
   "metadata": {},
   "outputs": [],
   "source": [
    "#Cell reserved for all needed imports\n",
    "import numpy as np\n",
    "import pandas as pd\n",
    "import math\n",
    "from collections import Counter\n",
    "from sklearn.metrics import classification_report, make_scorer, f1_score\n",
    "from sklearn.model_selection import StratifiedKFold, cross_val_score, train_test_split\n",
    "from sklearn.preprocessing import StandardScaler\n",
    "import matplotlib.pyplot as plt"
   ]
  },
  {
   "cell_type": "markdown",
   "metadata": {},
   "source": [
    "Before we begin to analyze our data, we must first load it from the .data file provided, along with assigning the column names for the respective features:"
   ]
  },
  {
   "cell_type": "code",
   "execution_count": 491,
   "metadata": {},
   "outputs": [
    {
     "name": "stdout",
     "output_type": "stream",
     "text": [
      "         ID Diagnosis  radius1  texture1  perimeter1   area1  smoothness1  \\\n",
      "0    842302         M    17.99     10.38      122.80  1001.0      0.11840   \n",
      "1    842517         M    20.57     17.77      132.90  1326.0      0.08474   \n",
      "2  84300903         M    19.69     21.25      130.00  1203.0      0.10960   \n",
      "3  84348301         M    11.42     20.38       77.58   386.1      0.14250   \n",
      "4  84358402         M    20.29     14.34      135.10  1297.0      0.10030   \n",
      "\n",
      "   compactness1  concavity1  concave_points1  ...  radius3  texture3  \\\n",
      "0       0.27760      0.3001          0.14710  ...    25.38     17.33   \n",
      "1       0.07864      0.0869          0.07017  ...    24.99     23.41   \n",
      "2       0.15990      0.1974          0.12790  ...    23.57     25.53   \n",
      "3       0.28390      0.2414          0.10520  ...    14.91     26.50   \n",
      "4       0.13280      0.1980          0.10430  ...    22.54     16.67   \n",
      "\n",
      "   perimeter3   area3  smoothness3  compactness3  concavity3  concave_points3  \\\n",
      "0      184.60  2019.0       0.1622        0.6656      0.7119           0.2654   \n",
      "1      158.80  1956.0       0.1238        0.1866      0.2416           0.1860   \n",
      "2      152.50  1709.0       0.1444        0.4245      0.4504           0.2430   \n",
      "3       98.87   567.7       0.2098        0.8663      0.6869           0.2575   \n",
      "4      152.20  1575.0       0.1374        0.2050      0.4000           0.1625   \n",
      "\n",
      "   symmetry3  fractal_dimension3  \n",
      "0     0.4601             0.11890  \n",
      "1     0.2750             0.08902  \n",
      "2     0.3613             0.08758  \n",
      "3     0.6638             0.17300  \n",
      "4     0.2364             0.07678  \n",
      "\n",
      "[5 rows x 32 columns]\n"
     ]
    }
   ],
   "source": [
    "columns = ['ID',\n",
    "           'Diagnosis',\n",
    "           'radius1',\n",
    "           'texture1',\n",
    "           'perimeter1',\n",
    "           'area1',\n",
    "           'smoothness1',\n",
    "           'compactness1',\n",
    "           'concavity1',\n",
    "           'concave_points1',\n",
    "           'symmetry1',\n",
    "           'fractal_dimension1',\n",
    "           'radius2',\n",
    "           'texture2',\n",
    "           'perimeter2',\n",
    "           'area2',\n",
    "           'smoothness2',\n",
    "           'compactness2',\n",
    "           'concavity2',\n",
    "           'concave_points2',\n",
    "           'symmetry2',\n",
    "           'fractal_dimension2',\n",
    "           'radius3',\n",
    "           'texture3',\n",
    "           'perimeter3',\n",
    "           'area3',\n",
    "           'smoothness3',\n",
    "           'compactness3',\n",
    "           'concavity3',\n",
    "           'concave_points3',\n",
    "           'symmetry3',\n",
    "           'fractal_dimension3'\n",
    "           ]\n",
    "\n",
    "data = pd.read_csv('data/wdbc.data', header=None, sep=',', names=columns)\n",
    "print(data.head())\n"
   ]
  },
  {
   "cell_type": "markdown",
   "metadata": {},
   "source": [
    "<h2>1. Implementing simple classifiers [15pts]</h2>\n",
    "- What to implement: In this question you should implement (1) a decision tree classifier\n",
    "that uses the Information Gain splitting criterion and (2) a Naive Bayes classifier which uses\n",
    "Gaussian modeling for continuous features.\n",
    "- What to plot: You should produce a bar-chart that shows the performance of your classifiers\n",
    "on the dataset.\n"
   ]
  },
  {
   "cell_type": "markdown",
   "metadata": {},
   "source": [
    "We will be creating a decision tree classifier using the information gain splitting criterion to effectively utilize the feature at each node that provides us with the most information gain about our target feature, 'Diagnosis' - telling us whether or not a breast mass is malignant (M) or benign (B). \n",
    "<br><br>\n",
    "First, we must prepare the data for the decision tree. First, we will drop the ID column and data from our dataset, as this data is not relevant to our predictive model. Next, we will create two new variables:\n",
    "1. features - the data for all features in our dataset other than the target\n",
    "2. target - the target feature of our dataset (Diagnosis) - determining whether a tumor is benign or malignant. We will convert the diagnosis data from categorical to numerical for the decision tree classifier."
   ]
  },
  {
   "cell_type": "code",
   "execution_count": 492,
   "metadata": {},
   "outputs": [],
   "source": [
    "\n",
    "if 'ID' in data.columns:\n",
    "    data = data.drop(columns=['ID'])\n",
    "    \n",
    "features = data.drop(columns=['Diagnosis']).values\n",
    "target = data['Diagnosis'].map({'M': 1, 'B': 0}).values"
   ]
  },
  {
   "cell_type": "markdown",
   "metadata": {},
   "source": [
    "Next, we will create a function 'calculate_entropy' that takes the various values in the dataset and calculate the entropy, or level of purity."
   ]
  },
  {
   "cell_type": "code",
   "execution_count": 493,
   "metadata": {},
   "outputs": [],
   "source": [
    "def calculate_entropy(x):\n",
    "    counts = np.bincount(x)\n",
    "    probabilities = counts / len(x)\n",
    "    entropy = 0\n",
    "\n",
    "    for prob in probabilities:\n",
    "        if prob > 0:\n",
    "            entropy += prob * abs(np.log2(prob))\n",
    "\n",
    "    return entropy"
   ]
  },
  {
   "cell_type": "markdown",
   "metadata": {},
   "source": [
    "Now that we have our entropy calculation completed, we need to create a function for calculating information gain. Since our features are mainly continuous, we should not perform exact value splits - doing so would lead to many small (and mostly single-item) bins, which would result in overfitting of our model. Instead, we will come up with thresholds between values for our splitting."
   ]
  },
  {
   "cell_type": "code",
   "execution_count": 494,
   "metadata": {},
   "outputs": [],
   "source": [
    "def calculate_information_gain(dataset, labels, feature):\n",
    "    \n",
    "    #sort the indexes of the dataset for the given feature\n",
    "    sorted = np.argsort(dataset[:, feature])\n",
    "\n",
    "    #apply the sorting to the feature data and labels\n",
    "    sorted_data = dataset[sorted]\n",
    "    sorted_labels = labels[sorted]\n",
    "\n",
    "    #start at the top, calculating entropy level of the dataset\n",
    "    #to determine the level of purity\n",
    "    parent_entropy = calculate_entropy(labels)\n",
    "\n",
    "    #iterate over possible thresholds and get the indexes on each side\n",
    "    top_info_gain = 0\n",
    "    top_threshold = None\n",
    "    for i in range(1, len(sorted_data)):\n",
    "\n",
    "        threshold = (sorted_data[i-1, feature] + sorted_data[i, feature]) / 2\n",
    "        #left split is a boolean array containing True for the indexes with a value less than the threshold\n",
    "        #right split is a boolean array containing True for the indexes with a value greater than or equal to the threshold\n",
    "        left_split = sorted_data[:, feature] < threshold\n",
    "        right_split = sorted_data[:, feature] >= threshold\n",
    "\n",
    "        #next we calculate the entropies for the left and right sides of the split\n",
    "        #this will tell us how effective the split is, and we will maximize information gain\n",
    "        left_split_entropy = calculate_entropy(sorted_labels[left_split])\n",
    "        right_split_entropy = calculate_entropy(sorted_labels[right_split])\n",
    "\n",
    "        #calculate the weights of the left and right splits for use in the overall weight entropy calculation\n",
    "        weight_l = np.sum(left_split) / len(sorted_data)\n",
    "        weight_r = np.sum(right_split) / len(sorted_data)\n",
    "\n",
    "        #calculate the overall weighted entropy of the current split\n",
    "        weighted_split_entropy = weight_l * left_split_entropy + weight_r * right_split_entropy\n",
    "\n",
    "        #using the weighted split entropy, calculate the information gain of the threshold\n",
    "        #if the information gain is higher than any we've come across thus far, set as the top one\n",
    "        information_gain = parent_entropy - weighted_split_entropy\n",
    "        if information_gain > top_info_gain:\n",
    "            top_info_gain = information_gain\n",
    "            top_threshold = threshold\n",
    "\n",
    "    return top_info_gain, top_threshold"
   ]
  },
  {
   "cell_type": "markdown",
   "metadata": {},
   "source": [
    "Now that we've created our functions to calculate entropy and weighted information gain, we will create the Decision Tree Classifier itself. First, we need to create a Node class to store various attributes (feature index, threshold, left of threshold values, right of threshold values) of the node we are evaluating:"
   ]
  },
  {
   "cell_type": "code",
   "execution_count": 495,
   "metadata": {},
   "outputs": [],
   "source": [
    "class TreeNode:\n",
    "    def __init__(self, feature=None, threshold=None, left=None, right=None, value=None):\n",
    "\n",
    "        #feature: index of feature being used for split\n",
    "        self.feature = feature\n",
    "\n",
    "        #threshold: threshold for the split\n",
    "        self.threshold = threshold\n",
    "\n",
    "        #left: the left node, contains all values < threshold\n",
    "        self.left = left\n",
    "\n",
    "        #right: the right node, contains all values >= threshold\n",
    "        self.right = right\n",
    "\n",
    "        #value: value (0 or 1 for benign or malignant) assigned when a leaf node is reached\n",
    "        #remains None until leaf node is found, then returns the value\n",
    "        self.value = value\n",
    "\n",
    "    def leaf_node_reached(self):\n",
    "        if self.value is not None:\n",
    "            return True\n",
    "        else:\n",
    "            return False"
   ]
  },
  {
   "cell_type": "markdown",
   "metadata": {},
   "source": [
    "Next, we will create our DecisionTreeClassifier class. This object contains all relevant methods for building our decision tree, recursively building tree nodes and calculating/maximizing information gain. I've annotated each method below with comments on its purpose: "
   ]
  },
  {
   "cell_type": "code",
   "execution_count": 496,
   "metadata": {},
   "outputs": [],
   "source": [
    "class DecisionTreeClassifier:\n",
    "    def __init__(self, maximum_tree_depth):\n",
    "\n",
    "        #maximum_tree_depth (int): the maximum depth for our tree\n",
    "        self.maximum_tree_depth = maximum_tree_depth\n",
    "\n",
    "        self.tree = None\n",
    "\n",
    "    def fit(self, dataset, labels):\n",
    "        #method containing all logic to train our classifier\n",
    "        self.tree = self.build_tree(dataset, labels)\n",
    "\n",
    "    def build_tree(self, dataset, labels, cur_tree_depth=0):\n",
    "        #this method is where the bulk of the work is handled for building our decision tree\n",
    "\n",
    "        #label count gives us the number of labels in the current sample set\n",
    "        #label count of 1 indicates perfect purity (one of our stopping criteria)\n",
    "        label_ct = len(np.unique(labels))\n",
    "\n",
    "        #we first check our stoppage criteria, to see if we've reached a leaf node\n",
    "        #if our current depth has hit the stoppage depth defined, OR\n",
    "        #if the label count has a value of 1\n",
    "        if cur_tree_depth >= self.maximum_tree_depth or label_ct == 1:\n",
    "            #return leaf node with the most common class label\n",
    "            leaf_value = self.get_top_label(labels)\n",
    "            return TreeNode(value=leaf_value)\n",
    "\n",
    "        #call get_top_split() to calculate the top feature and threshold\n",
    "        top_feature, top_threshold = self.get_top_split(dataset, labels)\n",
    "        if top_feature is None:\n",
    "            #no feature being returned indicates we've reached a leaf node\n",
    "            #return this TreeNode object with the leaf value found\n",
    "            leaf_value = self.get_top_label(labels)\n",
    "            return TreeNode(value=leaf_value)\n",
    "\n",
    "        #split data on top feature and threshold\n",
    "        #then build the sub trees off using this split\n",
    "        left_split = dataset[:, top_feature] < top_threshold\n",
    "        right_split = dataset[:, top_feature] >= top_threshold\n",
    "        left_sub_tree = self.build_tree(dataset[left_split], labels[left_split], cur_tree_depth + 1)\n",
    "        right_sub_tree = self.build_tree(dataset[right_split], labels[right_split], cur_tree_depth + 1)\n",
    "\n",
    "        return TreeNode(feature=top_feature, threshold=top_threshold, left=left_sub_tree, right=right_sub_tree)\n",
    "\n",
    "    def get_top_split(self, dataset, labels):\n",
    "\n",
    "        feature_ct = dataset.shape[1]\n",
    "        top_feature = None\n",
    "        top_threshold = None\n",
    "        top_info_gain = 0\n",
    "\n",
    "        #iterate over the features and determine which feature/threshold provide the highest information gain\n",
    "        for feature in range(feature_ct):\n",
    "            info_gain, threshold = calculate_information_gain(dataset, labels, feature)\n",
    "            if info_gain > top_info_gain:\n",
    "                top_info_gain = info_gain\n",
    "                top_feature = feature\n",
    "                top_threshold = threshold\n",
    "\n",
    "        return top_feature, top_threshold\n",
    "\n",
    "    def get_top_label(self, labels):\n",
    "        #returns the most common label in the array\n",
    "        #we call this function to determine whether benign or malignant samples are more prominent\n",
    "        return np.bincount(labels).argmax()\n",
    "\n",
    "    def predict(self, dataset):\n",
    "        predictions = []\n",
    "        for point in dataset:\n",
    "            #append the predicted label value to our predictions list\n",
    "            predictions.append(self.predict_datapoint(point, self.tree))\n",
    "        return np.array(predictions)\n",
    "\n",
    "    def predict_datapoint(self, point, node):\n",
    "        #first check if we've reached a leaf node\n",
    "        #if so, return the determined label value\n",
    "        if node.leaf_node_reached():\n",
    "            return node.value\n",
    "        \n",
    "        #if not leaf value, continue down the left or right tree nodes\n",
    "        if point[node.feature] < node.threshold:\n",
    "            return self.predict_datapoint(point, node.left)\n",
    "        else:\n",
    "            return self.predict_datapoint(point, node.right)\n",
    "\n",
    "    #required getter and setter functions for our object \n",
    "    def get_params(self, deep=True):\n",
    "        return {\"maximum_tree_depth\": self.maximum_tree_depth}\n",
    "\n",
    "    def set_params(self, maximum_tree_depth=None):\n",
    "        self.maximum_tree_depth = maximum_tree_depth\n",
    "        return self"
   ]
  },
  {
   "cell_type": "markdown",
   "metadata": {},
   "source": [
    "To create the naive bayes classifer, data preprocessing first gets done to ensure only relevant data is utilized.  The ID feature will not be relevant in predicting the Diagnosis and gets dropped from the dataset.  Encoding our target variable turns the output to numeric values, making it easier to identify within this classifier.  The data set next has a 75/25 training and testing split to help the classifier learn before it gets tested.  "
   ]
  },
  {
   "cell_type": "code",
   "execution_count": 521,
   "metadata": {},
   "outputs": [
    {
     "name": "stdout",
     "output_type": "stream",
     "text": [
      "Initial Look into Target Column 0    M\n",
      "1    M\n",
      "2    M\n",
      "3    M\n",
      "4    M\n",
      "Name: Diagnosis, dtype: object\n",
      "Verification that encoding works: 0    1\n",
      "1    1\n",
      "2    1\n",
      "3    1\n",
      "4    1\n",
      "Name: Diagnosis Encoding, dtype: int64\n",
      "Index(['radius1', 'texture1', 'perimeter1', 'area1', 'smoothness1',\n",
      "       'compactness1', 'concavity1', 'concave_points1', 'symmetry1',\n",
      "       'fractal_dimension1', 'radius2', 'texture2', 'perimeter2', 'area2',\n",
      "       'smoothness2', 'compactness2', 'concavity2', 'concave_points2',\n",
      "       'symmetry2', 'fractal_dimension2', 'radius3', 'texture3', 'perimeter3',\n",
      "       'area3', 'smoothness3', 'compactness3', 'concavity3', 'concave_points3',\n",
      "       'symmetry3', 'fractal_dimension3', 'Diagnosis Encoding'],\n",
      "      dtype='object')\n"
     ]
    }
   ],
   "source": [
    "data_df = pd.DataFrame(data)\n",
    "print(f\"Initial Look into Target Column {data_df['Diagnosis'].head()}\")\n",
    "\n",
    "#Dropping Irrelevant ID column\n",
    "if 'ID' in data_df.columns:\n",
    "    data_df = data_df.drop(columns=['ID'])\n",
    "\n",
    "\n",
    " \n",
    "#Label Encoding for Diagnosis\n",
    "data_df['Diagnosis Encoding'] = pd.factorize(data_df['Diagnosis'])[0]\n",
    "data_df['Diagnosis Encoding']=data_df['Diagnosis Encoding'].add(1)\n",
    "\n",
    "#Malignant will show up as '1' AND Benign as '2'\n",
    "print(f\"Verification that encoding works: {data_df['Diagnosis Encoding'].head()}\")\n",
    "data_df = data_df.drop('Diagnosis', axis = 1)\n",
    "\n",
    "#Splitting Data\n",
    "train_data = data_df.sample(frac=0.75, random_state = 42)\n",
    "test_data = data_df.drop(train_data.index)\n",
    "x_train = train_data.drop(\"Diagnosis Encoding\", axis = 1)\n",
    "x_test = test_data.drop(\"Diagnosis Encoding\", axis = 1)\n",
    "y_train = train_data['Diagnosis Encoding']\n",
    "y_test = test_data['Diagnosis Encoding']\n",
    "\n",
    "\n",
    "print(data_df.columns)\n",
    "\n"
   ]
  },
  {
   "cell_type": "markdown",
   "metadata": {},
   "source": [
    "The two main classes for our given dataset is Benign and Malignant.  Naive Bayes makes the assumption that features are independent given a class label.  Because the intention is to predict likelihood on whether new data belongs to a specific class, the training dataset gets defined by whether our target variable (Diagnosis) gives a 1 or 2.  From the class dataset, the mean and variance methods are defined in preparation for the Gaussian probability function.  This method calculates the probability of each feature in a data sample/instance based on Gaussian distribution.  Traditional computation would combine these probabilites through finding their product.  Finding the logarithmic summation was done instead due to logarithmic function's ability to handle smaller values better.  Additionally, any values of zero that could be found in variance were redefined as a miniscule number 1E-12 to avoid possibility of diving by zero.  This same concept was applied to the probability of a feature value being found in a class"
   ]
  },
  {
   "cell_type": "code",
   "execution_count": 498,
   "metadata": {},
   "outputs": [],
   "source": [
    "#Separating the data by class \n",
    "class Benign:\n",
    "    #Having benign data be instance method allows method to call on itself\n",
    "    def benign_data(self, x_train, y_train):\n",
    "        x_train_b = x_train[y_train == 2]\n",
    "        return x_train_b\n",
    "    def mean(self, x_train_b):\n",
    "        mean_value = {}\n",
    "        #Calculating mean of the numerical features in dataset\n",
    "        for column in x_train_b.select_dtypes(exclude ='object'):\n",
    "            mean_value[column] = x_train_b[column].mean()\n",
    "        return mean_value\n",
    "    def variance(self, x_train_b):\n",
    "        variance = {}\n",
    "        #Calculating variance of numerical features in databset\n",
    "        for column in x_train_b.select_dtypes(exclude ='object'):\n",
    "            #Recording the variance value for each individual feature\n",
    "            variance[column] = x_train_b[column].var()\n",
    "        return variance\n",
    "    #Probability calculation requires parameters of class data set, index being called plus pre-calculated mean & variance\n",
    "    def gaussianProbability(self, x_train_b, index, mean,variance):     \n",
    "        #Defining the probability sum before loop so function can add up all probabilities through each run in loop\n",
    "        sum_logP = 0\n",
    "        for column in x_train_b.select_dtypes(exclude ='object'):\n",
    "            #After parsing through a feature, x captures the data sample/instance within index that is called\n",
    "            x = x_train_b.loc[index,column]\n",
    "            μ = mean[column]\n",
    "            σ = variance[column]\n",
    "            #Handling zero values to avoid breaking Gaussian Probability calculation\n",
    "            if σ == 0:\n",
    "                σ = 1E-12\n",
    "            if μ ==0:\n",
    "                μ = 1E-12\n",
    "            #Setting up Naive Bayes proability calculation on continuous features by splitting numerator and denominator\n",
    "            #Assumes dataset has a Gaussian Distribution\n",
    "            num = math.exp(-(x-μ)**2/(2*σ))\n",
    "            denom = math.sqrt(2 * math.pi * σ)\n",
    "            P = num/denom\n",
    "            #Ensuring probability will not get too close to 0\n",
    "            if P <= 0:\n",
    "                P = 1E-18\n",
    "            #Using summation o\n",
    "            #Using summation of log function over product of posterior probability since log handles small numbers better\n",
    "            logP= (math.log(P))\n",
    "            #Variable increases the count of logP\n",
    "            sum_logP += logP\n",
    "        return sum_logP\n",
    "\n",
    "\n",
    "class Malignant:\n",
    "    def malignant_data(self, x_train, y_train):\n",
    "        x_train_m = x_train[y_train == 1]\n",
    "        return x_train_m\n",
    "    \n",
    "    def mean(self, x_train_m):\n",
    "        mean_value = {}\n",
    "        #Calculating mean of the numerical features in dataset\n",
    "        for column in x_train_m.select_dtypes(exclude ='object'):\n",
    "            mean_value[column] = x_train_m[column].mean()\n",
    "        return mean_value\n",
    "    def variance(self, x_train_m):\n",
    "        variance = {}\n",
    "        #Calculating variance of numerical features in databset\n",
    "        for column in x_train_m.select_dtypes(exclude ='object'):\n",
    "            #Recording the variance value for each individual feature\n",
    "            variance[column] = x_train_m[column].var()\n",
    "        return variance\n",
    "    #Probability calculation requires parameters of class data set, index being called plus pre-calculated mean & variance\n",
    "    def gaussianProbability(self, x_train_m, index, mean,variance):     \n",
    "        #Defining the probability sum before loop so function can add up all probabilities through each run in loop\n",
    "        sum_logP = 0\n",
    "        for column in x_train_m.select_dtypes(exclude ='object'):\n",
    "            #After parsing through a feature, x captures the data sample/instance within index that is called\n",
    "            x = x_train_m.loc[index,column]\n",
    "            μ = mean[column]\n",
    "            σ = variance[column]\n",
    "            #Handling zero values to avoid breaking Gaussian Probability calculation\n",
    "            if σ == 0:\n",
    "                σ = 1E-12\n",
    "            if μ ==0:\n",
    "                μ = 1E-12\n",
    "            #Setting up Naive Bayes proability calculation on continuous features by splitting numerator and denominator\n",
    "            #Assumes dataset has a Gaussian Distribution\n",
    "            num = math.exp(-(x-μ)**2/(2*σ))\n",
    "            denom = math.sqrt(2 * math.pi * σ)\n",
    "            P = num/denom \n",
    "            #Ensuring probability will not get too close to 0\n",
    "            if P <= 0:\n",
    "                P = 1E-18\n",
    "            #Using summation of log function over product of conditional probabilities since log handles small numbers better\n",
    "            logP= (math.log(P))\n",
    "            #Variable increases the count of logP\n",
    "            sum_logP += logP\n",
    "        return sum_logP\n",
    "    \n"
   ]
  },
  {
   "cell_type": "markdown",
   "metadata": {},
   "source": [
    "Next, we create a NaiveBayesClassifier object to help us classify our data samples as benign or malignant. Below is a breakdown of the class:\n",
    "\n",
    "- init(): initialize the object\n",
    "- fit(): the method for training our NB classifier. In this method, we calculate the prior probabilities for both malignant and benign label values. We then train the classifier based off of these prior beliefs, and calculate the mean and variance values for both the malignant and benign labels.\n",
    "- predict(): in this method, we compute the actual prediction value of the label for a given row of data in our test split dataset. We calculate the Gaussian probability for each class label (B vs. M). Whichever one is higher is the predictive value we assign to the data.\n",
    "- get_params() / set_params(): allows for getting and setting of the object's values dynamically. These two methods are required in order to work with SKLearn's cross_val_score function that we utilize in order to calculate the performance of our model (without these two methods, errors are thrown when trying to call the function).\n"
   ]
  },
  {
   "cell_type": "code",
   "execution_count": 499,
   "metadata": {},
   "outputs": [],
   "source": [
    "class NaiveBayesClassifier:\n",
    "    def __init__(self, priors=None):\n",
    "        self.benign = Benign()\n",
    "        self.malignant = Malignant()\n",
    "        self.priors = priors if priors is not None else {}\n",
    "\n",
    "    def fit(self, x_train, y_train):\n",
    "        n_total = len(y_train)\n",
    "        n_benign = np.sum(y_train == 2)\n",
    "        n_malignant = np.sum(y_train == 1)\n",
    "\n",
    "        self.priors['benign'] = n_benign / n_total\n",
    "        self.priors['malignant'] = n_malignant / n_total\n",
    "\n",
    "        if isinstance(x_train, np.ndarray):\n",
    "            x_train = pd.DataFrame(x_train, columns=[f\"feature_{i}\" for i in range(x_train.shape[1])])\n",
    "        self.x_train_b = self.benign.benign_data(x_train, y_train)\n",
    "        self.mean_b = self.benign.mean(self.x_train_b)\n",
    "        self.variance_b = self.benign.variance(self.x_train_b)\n",
    "\n",
    "        self.x_train_m = self.malignant.malignant_data(x_train, y_train)\n",
    "        self.mean_m = self.malignant.mean(self.x_train_m)\n",
    "        self.variance_m = self.malignant.variance(self.x_train_m)\n",
    "\n",
    "    def predict(self, x_test):\n",
    "\n",
    "        if isinstance(x_test, np.ndarray):\n",
    "            x_test = pd.DataFrame(x_test, columns=[f\"feature_{i}\" for i in range(x_test.shape[1])])\n",
    "            \n",
    "        predictions = []\n",
    "\n",
    "        for index in x_test.index:\n",
    "            #Compute probabilities, and assign the predicted class of 2 (benign) or 1 (malignant)\n",
    "            #depending on which probability is higher\n",
    "            gauss_test_B = self.benign.gaussianProbability(x_test, index, self.mean_b, self.variance_b)\n",
    "            gauss_test_M = self.malignant.gaussianProbability(x_test, index, self.mean_m, self.variance_m)\n",
    "            pred_class = 2 if gauss_test_B > gauss_test_M else 1\n",
    "            predictions.append(pred_class)\n",
    "\n",
    "        return np.array(predictions)\n",
    "\n",
    "    def get_params(self, deep=True):\n",
    "        return {'priors': self.priors}\n",
    "\n",
    "    def set_params(self, **params):\n",
    "        for key, value in params.items():\n",
    "            setattr(self, key, value)\n",
    "        return self\n"
   ]
  },
  {
   "cell_type": "markdown",
   "metadata": {},
   "source": [
    "Now that we've created our decision tree and naive bayes classifiers, we will begin the process of testing the performance and analyzing our results. Below, we've created two functions:\n",
    "\n",
    "1. test_performance() - this function has two arguments, X (the data matrix) and y (the label values). \n",
    "2. get_f1() - a helper function called by our test_performance function. This function takes four arguments - the data matrix and label values passed in from test_performance, along with the stratified k fold and classifier objects we've created. We return sklearn's cross_val_score call on our parameters, which returns an array containing the f1 scores at each fold in the cross validation."
   ]
  },
  {
   "cell_type": "code",
   "execution_count": 500,
   "metadata": {},
   "outputs": [],
   "source": [
    "def test_performance(classifier, X, y):\n",
    "    kfold = StratifiedKFold(n_splits=10, shuffle=True)\n",
    "    f1_scores = get_f1(X, y, kfold, classifier)\n",
    "\n",
    "    mean_f1_scores = np.mean(f1_scores)\n",
    "    stdev_f1_scores = np.std(f1_scores)\n",
    "\n",
    "    return mean_f1_scores, stdev_f1_scores\n",
    "\n",
    "def get_f1(X, y, skf, classifier):\n",
    "    return cross_val_score(classifier, X, y, cv=skf, scoring=make_scorer(f1_score, average='weighted'))"
   ]
  },
  {
   "cell_type": "markdown",
   "metadata": {},
   "source": [
    "Once we've built our performance calculating functions, we want to plot our results. We call test_performance, and get the mean and standard deviation values of our f1 scores at each fold, for both of our classifiers. With these two values, we build up a plot to show each classifier's performance, along with the levels of error:"
   ]
  },
  {
   "cell_type": "code",
   "execution_count": 501,
   "metadata": {},
   "outputs": [
    {
     "name": "stdout",
     "output_type": "stream",
     "text": [
      "Decision Tree F1 Mean: 0.9386199593132\n",
      "Decision Tree F1 Std. Dev.: 0.03605042282766252\n",
      "Naive Bayes F1 Mean: 0.9388305739644505\n",
      "Naive Bayes F1 Std. Dev.: 0.032002846218436375\n"
     ]
    },
    {
     "data": {
      "image/png": "[encoded data removed]",
      "text/plain": [
       "<Figure size 640x480 with 1 Axes>"
      ]
     },
     "metadata": {},
     "output_type": "display_data"
    }
   ],
   "source": [
    "def plot_performance(classifier_names, mean_f1, std_f1):\n",
    "    fig, ax = plt.subplots()\n",
    "    ax.bar(classifier_names, mean_f1, yerr=std_f1, color=['blue', 'red'], capsize=10)\n",
    "    ax.set_ylabel('F1 Score (mean)')\n",
    "    ax.set_title('Classifier Performance')\n",
    "    plt.show()\n",
    "\n",
    "dec_tree_mean_f1, dec_tree_std_f1 = test_performance(\n",
    "    DecisionTreeClassifier(maximum_tree_depth=5), \n",
    "    features, \n",
    "    target)\n",
    "\n",
    "nb_mean_f1, nb_std_f1 = test_performance(\n",
    "    NaiveBayesClassifier(), \n",
    "    x_train, \n",
    "    y_train)\n",
    "\n",
    "print(f\"Decision Tree F1 Mean: {dec_tree_mean_f1}\")\n",
    "print(f\"Decision Tree F1 Std. Dev.: {dec_tree_std_f1}\")\n",
    "print(f\"Naive Bayes F1 Mean: {nb_mean_f1}\")\n",
    "print(f\"Naive Bayes F1 Std. Dev.: {nb_std_f1}\")\n",
    "\n",
    "classifier_names = [\"Decision Tree\", \"Naive Bayes\"]\n",
    "f1_means = [dec_tree_mean_f1, nb_mean_f1]\n",
    "f1_stds = [dec_tree_std_f1, nb_std_f1]\n",
    "\n",
    "plot_performance(classifier_names, f1_means, f1_stds)"
   ]
  },
  {
   "cell_type": "markdown",
   "metadata": {},
   "source": [
    "Based on these results, we can see that the decision tree classifier has roughly a 93% mean F1 score, which indicates our classifier is effectively handling our imbalanced dataset and considering false positives and false negatives. The low standard deviation (roughly 0.03) tells us that the classifier is avoiding overfitting the data and performing well across the ten folds.  \n",
    "\n",
    "Naive Bayes is able to achieve a mean F1 score of 0.941, which reveals that this classifier effectively handles the dataset.  Since the F1 tests false positive and negatives, the higher score suggests that this classifier has a minimal chance of error.  The small standard deviation of 0.3831 shows that the classifier's performance is consistent with minimal variance.  This avoids overfitting and boosts confidence in ability to handle foreign datasets."
   ]
  },
  {
   "cell_type": "markdown",
   "metadata": {},
   "source": [
    "Feature Selection with Randomization\n",
    "\n",
    "20% of dataset is used to randomly shuffle all features\n",
    "80% dataset is untouched and used for testing at the end"
   ]
  },
  {
   "cell_type": "code",
   "execution_count": 502,
   "metadata": {},
   "outputs": [
    {
     "name": "stdout",
     "output_type": "stream",
     "text": [
      "Original dataset is: \n",
      "   Diagnosis  radius1  texture1  perimeter1   area1  smoothness1  compactness1  \\\n",
      "0         M    17.99     10.38      122.80  1001.0      0.11840       0.27760   \n",
      "1         M    20.57     17.77      132.90  1326.0      0.08474       0.07864   \n",
      "2         M    19.69     21.25      130.00  1203.0      0.10960       0.15990   \n",
      "3         M    11.42     20.38       77.58   386.1      0.14250       0.28390   \n",
      "4         M    20.29     14.34      135.10  1297.0      0.10030       0.13280   \n",
      "\n",
      "   concavity1  concave_points1  symmetry1  ...  radius3  texture3  perimeter3  \\\n",
      "0      0.3001          0.14710     0.2419  ...    25.38     17.33      184.60   \n",
      "1      0.0869          0.07017     0.1812  ...    24.99     23.41      158.80   \n",
      "2      0.1974          0.12790     0.2069  ...    23.57     25.53      152.50   \n",
      "3      0.2414          0.10520     0.2597  ...    14.91     26.50       98.87   \n",
      "4      0.1980          0.10430     0.1809  ...    22.54     16.67      152.20   \n",
      "\n",
      "    area3  smoothness3  compactness3  concavity3  concave_points3  symmetry3  \\\n",
      "0  2019.0       0.1622        0.6656      0.7119           0.2654     0.4601   \n",
      "1  1956.0       0.1238        0.1866      0.2416           0.1860     0.2750   \n",
      "2  1709.0       0.1444        0.4245      0.4504           0.2430     0.3613   \n",
      "3   567.7       0.2098        0.8663      0.6869           0.2575     0.6638   \n",
      "4  1575.0       0.1374        0.2050      0.4000           0.1625     0.2364   \n",
      "\n",
      "   fractal_dimension3  \n",
      "0             0.11890  \n",
      "1             0.08902  \n",
      "2             0.08758  \n",
      "3             0.17300  \n",
      "4             0.07678  \n",
      "\n",
      "[5 rows x 31 columns]\n",
      "Permutated dataset is: \n",
      "   Diagnosis  radius1  texture1  perimeter1   area1  smoothness1  compactness1  \\\n",
      "0         M    7.691     21.59       98.22   689.5      0.09779       0.27680   \n",
      "1         M   13.400     15.34      109.30   640.1      0.07987       0.11330   \n",
      "2         M   12.630     12.44       59.96   317.5      0.10220       0.11470   \n",
      "3         M   16.030     11.89       82.89  1001.0      0.11060       0.08549   \n",
      "4         M   19.530     18.17       73.88   981.6      0.08365       0.05366   \n",
      "\n",
      "   concavity1  concave_points1  symmetry1  ...  radius3  texture3  perimeter3  \\\n",
      "0     0.01800         0.109000     0.1647  ...    11.25     25.50      109.50   \n",
      "1     0.06154         0.019170     0.2026  ...    30.75     29.41       85.07   \n",
      "2     0.05308         0.029440     0.1788  ...    11.52     31.98      195.00   \n",
      "3     0.06651         0.008829     0.1893  ...    24.30     21.38      115.70   \n",
      "4     0.04132         0.010760     0.1627  ...    15.35     33.17      211.50   \n",
      "\n",
      "    area3  smoothness3  compactness3  concavity3  concave_points3  symmetry3  \\\n",
      "0   618.8      0.12550       0.30890     0.33440          0.17320     0.2908   \n",
      "1  1403.0      0.11570       0.17510     0.07003          0.17160     0.2321   \n",
      "2   474.2      0.14910       0.31240     0.00000          0.23930     0.4670   \n",
      "3   653.3      0.11950       0.18240     0.15590          0.05052     0.2833   \n",
      "4  1298.0      0.09422       0.04712     0.31940          0.15300     0.2251   \n",
      "\n",
      "   fractal_dimension3  \n",
      "0             0.07238  \n",
      "1             0.07062  \n",
      "2             0.07858  \n",
      "3             0.06558  \n",
      "4             0.08158  \n",
      "\n",
      "[5 rows x 31 columns]\n"
     ]
    }
   ],
   "source": [
    "#Creating a copy of original dataset for random permutation\n",
    "\n",
    "#Method that loops through all columns and randomly permutates each feature\n",
    "def permutatingData(data):\n",
    "    random_perm_data = data.copy()\n",
    "    for column in random_perm_data:\n",
    "        if column !='Diagnosis':\n",
    "            random_perm_data[column] = np.random.permutation(random_perm_data[column])\n",
    "    return random_perm_data\n",
    "\n",
    "#Validating that method above works\n",
    "print(f\"Original dataset is: \\n {data.head()}\")\n",
    "rp_data = permutatingData(data)\n",
    "print(f\"Permutated dataset is: \\n {rp_data.head()}\")"
   ]
  },
  {
   "cell_type": "markdown",
   "metadata": {},
   "source": [
    "Splitting the datset to set up for model training.  As detailed in the instructions, one of the model trainings will follow our standard dataset while the second one incorporates 20% stratified random sampling and the remaining 80% for testing will consist purely of the original dataset.  In order to keep data consistent with the classifiers written from scratch, encoding of the target feature Diagnosis was applied on the randomly permutated dataset.  "
   ]
  },
  {
   "cell_type": "code",
   "execution_count": 503,
   "metadata": {},
   "outputs": [
    {
     "name": "stdout",
     "output_type": "stream",
     "text": [
      "Initial Look into Target Column: \n",
      " 0    M\n",
      "1    M\n",
      "2    M\n",
      "3    M\n",
      "4    M\n",
      "Name: Diagnosis, dtype: object\n",
      "Verification that encoding works: \n",
      "0    1\n",
      "1    1\n",
      "2    1\n",
      "3    1\n",
      "4    1\n",
      "Name: Diagnosis Encoding, dtype: int64\n"
     ]
    }
   ],
   "source": [
    "#Feature selection on the 20% stratified random sample of entire dataset\n",
    "\n",
    "#Turning the randomly permutated datset into a dataframe for easy data splitting\n",
    "rp_dataDF = pd.DataFrame(rp_data)\n",
    "\n",
    "#Adding encoding feature to keep randomly stratified data consistent with original dataset\n",
    "print(f\"Initial Look into Target Column: \\n {rp_dataDF['Diagnosis'].head()}\")\n",
    "rp_dataDF['Diagnosis Encoding'] = pd.factorize(rp_dataDF['Diagnosis'])[0]\n",
    "rp_dataDF['Diagnosis Encoding']=rp_dataDF['Diagnosis Encoding'].add(1)\n",
    "print(f\"Verification that encoding works: \\n{rp_dataDF['Diagnosis Encoding'].head()}\")\n",
    "#Malignant will show up as 1 AND Benign as 2\n",
    "\n",
    "#Training and Testing Data Split\n",
    "train_data_R = rp_dataDF.sample(frac=0.2, random_state = 41)\n",
    "test_data_R = data_df.sample(frac = 0.8, random_state = 41)\n",
    "x_train_R = train_data_R.drop(columns = ['Diagnosis Encoding'])\n",
    "x_test_R = test_data_R.drop(columns = ['Diagnosis Encoding'])\n",
    "y_train_R = train_data_R['Diagnosis Encoding']\n",
    "y_test_R = test_data_R['Diagnosis Encoding']"
   ]
  },
  {
   "cell_type": "markdown",
   "metadata": {},
   "source": [
    "<h2>2. Dimensionality reduction with the Singular Value Decomposition [10pts]</h2>\n",
    "What to implement: The Singular Value Decomposition (SVD) is an extremely useful tool\n",
    "from linear algebra that can help us approximate a data matrix (such as the instance-by-feature matrix that represents our data) into a smaller dimension, hence reduce the dimensionality of the data. In this question you should use the SVD (you may use the existing NumPy library) to approximate the data in different ranks. Important: because we are dealing with supervised learning, given a train/test split, in order to avoid data leakage you should always make sure that you only compute the SVD on the train split and project the test instances to that space, in the same way that the Latent Semantic Analysis paper [1] does.\n",
    "<br><br>\n",
    "What to plot: You should produce a figure that shows the performance of your classifiers as\n",
    "a function of the SVD approximation rank"
   ]
  },
  {
   "cell_type": "code",
   "execution_count": 554,
   "metadata": {},
   "outputs": [
    {
     "name": "stdout",
     "output_type": "stream",
     "text": [
      "(426, 30)\n",
      "(426, 426) (30,) (30, 30)\n"
     ]
    }
   ],
   "source": [
    "#first, we split our data using train/test split\n",
    "X_train, X_test, y_train, y_test = train_test_split(features, target, test_size=0.25, random_state=42)\n",
    "print(X_train.shape)\n",
    "\n",
    "#then, utilize numpy's singluar value decomposition function on only our training split\n",
    "#this decomposes our training data matrix into three separate matrices\n",
    "U, S, Vh = np.linalg.svd(X_train)\n",
    "print(U.shape, S.shape, Vh.shape)\n",
    "\n",
    "#create reduce() function with the following parameters:\n",
    "#U: the orthonormal columns of our data\n",
    "#S: the diagonal matrix of our data\n",
    "#Vh: the orthonormal rows of our data\n",
    "#rank: the rank we use to approximate the data \n",
    "def reduce(U, S, Vh, rank):\n",
    "    #reduce each of our three matrices based on the rank passed in\n",
    "    reduced_U = U[:, :rank]\n",
    "    reduced_S = np.diag(S[:rank])\n",
    "    reduced_Vh = Vh[:rank, :]\n",
    "\n",
    "    #multiply all three back together to get the reduced version of our original training data matrix\n",
    "    reduced_train_data = np.dot(reduced_U, reduced_S)\n",
    "    \n",
    "    return reduced_train_data"
   ]
  },
  {
   "cell_type": "markdown",
   "metadata": {},
   "source": [
    "Once we've written our code for reducing the based on the top number of singular values and vectors (our 'rank'), we now want to create a helper function to project the test data split based on reduced space we created with the SVD functionality:"
   ]
  },
  {
   "cell_type": "code",
   "execution_count": 505,
   "metadata": {},
   "outputs": [],
   "source": [
    "def project_test(test_data, transpose_matrix):\n",
    "    return np.dot(test_data, transpose_matrix)"
   ]
  },
  {
   "cell_type": "markdown",
   "metadata": {},
   "source": [
    "Next, we want to create another helper function to evlauate our decision tree and naive bayes classifiers on the projected test data in the reduced space:"
   ]
  },
  {
   "cell_type": "code",
   "execution_count": 506,
   "metadata": {},
   "outputs": [],
   "source": [
    "def evaluate(X_train_reduced, X_test_reduced, y_train, y_test):\n",
    "    \n",
    "    #initialize the decision tree classifier obj and NB classifier obj\n",
    "    dec_tree = DecisionTreeClassifier(maximum_tree_depth=5)\n",
    "    nb = NaiveBayesClassifier()\n",
    "\n",
    "    #calculate the performance of each classifier using the helper function\n",
    "    #test_performance() that we created earlier along in the project\n",
    "    dec_tree_mean_f1, dec_tree_stdev_f1 = test_performance(dec_tree, X_train_reduced, y_train)\n",
    "    nb_mean_f1, nb_stdev_f1 = test_performance(nb, X_train_reduced, y_train)\n",
    "\n",
    "    print(f\"dec_tree_mean_f1: {dec_tree_mean_f1}\")\n",
    "    print(f\"dec_tree_stdev_f1: {dec_tree_stdev_f1}\")\n",
    "    print(f\"nb_mean_f1: {nb_mean_f1}\")\n",
    "    print(f\"nb_stdev_f1: {nb_stdev_f1}\")\n",
    "\n",
    "    #only returning the mean values since these are what we're plotting on our SVD approx. graph\n",
    "    return dec_tree_mean_f1, nb_mean_f1"
   ]
  },
  {
   "cell_type": "markdown",
   "metadata": {},
   "source": [
    "Once we've created our evaluate function, we can begin evaluating the performance of each of our classifiers across different ranks (or number of utilized features). For sake of performance, we've gone ahead and created a ranks list containing intervals of 5 up to 30, the total number of features we have originally. <br><br>\n",
    "We iterate over each rank, evaluate our classifiers performance at each once, then create a plot displaying the respective mean F1 scores for each classifier."
   ]
  },
  {
   "cell_type": "code",
   "execution_count": 507,
   "metadata": {},
   "outputs": [
    {
     "name": "stdout",
     "output_type": "stream",
     "text": [
      "---------------\n",
      "Rank -5-\n",
      "X_train_reduced shape -(426, 5)-\n",
      "X_test_reduced shape -(143, 5)-\n"
     ]
    },
    {
     "name": "stdout",
     "output_type": "stream",
     "text": [
      "dec_tree_mean_f1: 0.9168710943623563\n",
      "dec_tree_stdev_f1: 0.04539066977367041\n",
      "nb_mean_f1: 0.2007180088505689\n",
      "nb_stdev_f1: 0.007150564084331442\n",
      "---------------\n",
      "Rank -10-\n",
      "X_train_reduced shape -(426, 10)-\n",
      "X_test_reduced shape -(143, 10)-\n",
      "dec_tree_mean_f1: 0.914905597054626\n",
      "dec_tree_stdev_f1: 0.03888208197476126\n",
      "nb_mean_f1: 0.2007180088505689\n",
      "nb_stdev_f1: 0.007150564084331442\n",
      "---------------\n",
      "Rank -15-\n",
      "X_train_reduced shape -(426, 15)-\n",
      "X_test_reduced shape -(143, 15)-\n",
      "dec_tree_mean_f1: 0.9223861190791425\n",
      "dec_tree_stdev_f1: 0.03154362811062021\n",
      "nb_mean_f1: 0.2007180088505689\n",
      "nb_stdev_f1: 0.007150564084331442\n",
      "---------------\n",
      "Rank -20-\n",
      "X_train_reduced shape -(426, 20)-\n",
      "X_test_reduced shape -(143, 20)-\n",
      "dec_tree_mean_f1: 0.9053397539428923\n",
      "dec_tree_stdev_f1: 0.05520127373108915\n",
      "nb_mean_f1: 0.2007180088505689\n",
      "nb_stdev_f1: 0.007150564084331442\n",
      "---------------\n",
      "Rank -25-\n",
      "X_train_reduced shape -(426, 25)-\n",
      "X_test_reduced shape -(143, 25)-\n",
      "dec_tree_mean_f1: 0.9202374915080629\n",
      "dec_tree_stdev_f1: 0.039520434865059656\n",
      "nb_mean_f1: 0.2007180088505689\n",
      "nb_stdev_f1: 0.007150564084331442\n",
      "---------------\n",
      "Rank -30-\n",
      "X_train_reduced shape -(426, 30)-\n",
      "X_test_reduced shape -(143, 30)-\n",
      "dec_tree_mean_f1: 0.9034971237970606\n",
      "dec_tree_stdev_f1: 0.05168103672437132\n",
      "nb_mean_f1: 0.2007180088505689\n",
      "nb_stdev_f1: 0.007150564084331442\n"
     ]
    },
    {
     "data": {
      "image/png": "[encoded data removed]",
      "text/plain": [
       "<Figure size 1000x600 with 1 Axes>"
      ]
     },
     "metadata": {},
     "output_type": "display_data"
    }
   ],
   "source": [
    "rank_list = [5, 10, 15, 20, 25, 30]\n",
    "dec_tree_f1_per_rank = []\n",
    "nb_f1_per_rank = []\n",
    "\n",
    "for rank in rank_list:\n",
    "\n",
    "    X_train_reduced = reduce(U, S, Vh, rank)\n",
    "    \n",
    "    Vh_reduced = Vh[:rank, :]\n",
    "    X_test_reduced = project_test(X_test, np.transpose(Vh_reduced))\n",
    "\n",
    "    print(\"---------------\")\n",
    "    print(f\"Rank -{rank}-\")\n",
    "    print(f\"X_train_reduced shape -{X_train_reduced.shape}-\") \n",
    "    print(f\"X_test_reduced shape -{X_test_reduced.shape}-\")\n",
    "\n",
    "    scaler = StandardScaler()\n",
    "    X_train_reduced = scaler.fit_transform(X_train_reduced)\n",
    "    X_test_reduced = scaler.transform(X_test_reduced)\n",
    "    \n",
    "    dec_tree_f1, nb_f1 = evaluate(X_train_reduced, X_test_reduced, y_train, y_test)\n",
    "    dec_tree_f1_per_rank.append(dec_tree_f1)\n",
    "    nb_f1_per_rank.append(nb_f1)\n",
    "\n",
    "plt.figure(figsize=(10, 6))\n",
    "plt.plot(rank_list, dec_tree_f1_per_rank, label='Decision Tree', marker='o', color='blue')\n",
    "plt.plot(rank_list, nb_f1_per_rank, label='Naive Bayes', marker='o', color='red')\n",
    "plt.xlabel('Rank')\n",
    "plt.ylabel('Mean F1 Score')\n",
    "plt.title('Classifier Performance Using Singular Value Decomposition')\n",
    "plt.legend()\n",
    "plt.grid(True)\n",
    "plt.show()"
   ]
  },
  {
   "cell_type": "markdown",
   "metadata": {},
   "source": [
    "<h2>4. Data augmentation using SMOTE [10pts]</h2>\n",
    "\n",
    "What to implement: As we saw in class, SMOTE is one of the earliest and very successful data augmentation (or minority class oversampling) techniques. You can use the pseudocode included in the original SMOTE paper [2] as a basis for your implementation.<br><br>\n",
    "What to plot: The performance of your classifiers as a function of the percentage of oversampled minority samples (100%, 200%, 300%) for k = 1, and k = 5. This plot should contain 2 lines per classifier (one for each k)"
   ]
  },
  {
   "cell_type": "markdown",
   "metadata": {},
   "source": [
    "To perform our SMOTE implementation, first we created a function to figure out what the minority class is in the sample. This function get_minority() returns the minority label for benign or malignant (as 0 or 1) along with the indices of these minority records:"
   ]
  },
  {
   "cell_type": "code",
   "execution_count": 580,
   "metadata": {},
   "outputs": [],
   "source": [
    "def identify_minority(sample):\n",
    "\n",
    "    label_counts = Counter(sample)\n",
    "    minority_label = min(label_counts, key=label_counts.get)\n",
    "    minority_indices = np.where(sample == minority_label)[0]\n",
    "\n",
    "    # print(f\"Minority class: {min_class}\")\n",
    "    # print(f\"Minority indices: {minority_indices}\")\n",
    "    \n",
    "    return minority_label, minority_indices\n",
    "\n",
    "# Example usage\n",
    "y_train = np.array([0, 1, 0, 1, 1, 0, 1])  # Example target array\n",
    "min_class, minority_indices = identify_minority(y_train)"
   ]
  },
  {
   "cell_type": "markdown",
   "metadata": {},
   "source": [
    "Next, we create a function to get the K nearest neighbors to the minority samples:"
   ]
  },
  {
   "cell_type": "code",
   "execution_count": 581,
   "metadata": {},
   "outputs": [
    {
     "name": "stdout",
     "output_type": "stream",
     "text": [
      "Nearest neighbors:\n",
      "[[0 1 2]\n",
      " [1 0 2]\n",
      " [2 1 0]]\n"
     ]
    }
   ],
   "source": [
    "from sklearn.neighbors import NearestNeighbors\n",
    "\n",
    "def get_nn(min_samples, k_neighbors):\n",
    "    # Use NearestNeighbors to find the k nearest neighbors of each minority sample\n",
    "    nn = NearestNeighbors(n_neighbors=k_neighbors).fit(min_samples)\n",
    "    \n",
    "    # For each sample, find its k nearest neighbors\n",
    "    neighbors = nn.kneighbors(min_samples, return_distance=False)\n",
    "    \n",
    "    return neighbors\n",
    "\n",
    "# Example usage\n",
    "X_minority = np.array([[1, 2], [2, 3], [3, 4]])  # Example minority class samples\n",
    "k_neighbors = 3\n",
    "neighbors = get_nn(X_minority, k_neighbors)\n",
    "print(\"Nearest neighbors:\")\n",
    "print(neighbors)"
   ]
  },
  {
   "cell_type": "markdown",
   "metadata": {},
   "source": [
    "Then we create a function <b>create_synthetic_samples</b> to generate the samples from our minority sample. We pass three parameters into this function: <br><br>\n",
    "min_samples: the minority samples we want to generate the synthetic samples from<br><br>\n",
    "neighbors: the neighbors we determined using our previous get_nn() function <br><br>\n",
    "n: the number of synthetic samples we want to create\n"
   ]
  },
  {
   "cell_type": "code",
   "execution_count": 592,
   "metadata": {},
   "outputs": [
    {
     "name": "stdout",
     "output_type": "stream",
     "text": [
      "Synthetic samples:\n",
      "[[2.5279588  3.5279588 ]\n",
      " [1.51163998 2.51163998]\n",
      " [1.28272198 2.28272198]\n",
      " [2.64250806 3.64250806]\n",
      " [2.39051833 3.39051833]]\n"
     ]
    }
   ],
   "source": [
    "def create_synthetics(min_samples, neighbors, n):\n",
    "    synthetics = []    \n",
    "    for i in range(n):\n",
    "        #grab a random min sample from our min samples\n",
    "        random_index = np.random.randint(0, min_samples.shape[0])\n",
    "        min_sample = min_samples[random_index]\n",
    "\n",
    "        neighbor_indices = neighbors[random_index][1:]  # Exclude itself\n",
    "\n",
    "        print(f\"Sample index {random_index} neighbors: {neighbor_indices}\")\n",
    "\n",
    "        if len(neighbor_indices) == 0:\n",
    "            print(f\"Warning: No neighbors found for sample index {random_index}, skipping this sample.\")\n",
    "            continue\n",
    "        \n",
    "        #grab a random nearest neighbor from our min sample, excluding itself\n",
    "        n_index = np.random.choice(neighbors[random_index][1:])\n",
    "        n_sample = min_samples[n_index]\n",
    "        \n",
    "        #create the new synthetic sample from the neighbor sample and min sample\n",
    "        delta = n_sample - min_sample\n",
    "        synthetic = min_sample + np.random.rand() * delta\n",
    "        synthetics.append(synthetic)\n",
    "    \n",
    "    return np.array(synthetics) if synthetics else np.empty((0, min_samples.shape[1]))\n",
    "\n",
    "n_synthetic_samples = 5\n",
    "synthetic_samples = create_synthetic_samples(X_minority, neighbors, n_synthetic_samples)\n",
    "print(\"Synthetic samples:\")\n",
    "print(synthetic_samples)\n"
   ]
  },
  {
   "cell_type": "markdown",
   "metadata": {},
   "source": [
    "Next we create another helper function <b>integrate_synthetics()</b> - this function takes our newly created synthetic samples and integrates them back into the original data:"
   ]
  },
  {
   "cell_type": "code",
   "execution_count": 594,
   "metadata": {},
   "outputs": [
    {
     "name": "stdout",
     "output_type": "stream",
     "text": [
      "Resampled X:\n",
      "[[1.         2.        ]\n",
      " [2.         3.        ]\n",
      " [3.         4.        ]\n",
      " [2.5279588  3.5279588 ]\n",
      " [1.51163998 2.51163998]\n",
      " [1.28272198 2.28272198]\n",
      " [2.64250806 3.64250806]\n",
      " [2.39051833 3.39051833]]\n",
      "Resampled y:\n",
      "[0 1 0 1 1 1 0 1 0 0 0 0 1 1 0 0 0 0 0 0 0 1 0 0 0 0 1 0 0 0 0 0 0 1 0 0 0\n",
      " 0 0 0 1 1 1 0 0 1 0 1 0 0 0 0 1 0 0 1 0 0 0 1 0 1 1 0 0 0 1 0 0 0 0 1 0 0\n",
      " 0 0 0 1 0 1 1 0 0 1 0 0 0 0 0 0 0 1 1 1 0 0 1 0 0 1 0 1 0 1 0 1 0 0 1 0 0\n",
      " 0 1 0 1 0 1 0 1 0 0 1 0 0 0 0 1 0 0 0 1 0 0 1 0 0 1 0 0 0 0 0 0 0 1 0 0 0\n",
      " 1 0 1 0 0 0 1 0 1 1 0 0 1 0 1 1 1 0 0 0 1 0 0 1 0 1 0 0 0 1 0 1 0 0 1 1 0\n",
      " 0 1 0 1 1 0 1 1 0 0 1 1 1 0 0 0 0 1 0 1 1 1 1 0 0 0 0 0 0 0 0 1 1 0 0 1 0\n",
      " 0 0 0 0 1 0 0 1 1 0 1 0 1 0 0 0 0 0 0 1 0 0 1 0 0 0 0 0 0 1 0 0 1 0 1 1 1\n",
      " 0 1 0 0 1 1 1 0 0 0 0 0 0 0 1 0 0 0 1 0 0 1 1 0 1 0 1 1 0 0 1 0 1 1 0 1 1\n",
      " 0 0 1 0 1 0 0 1 0 0 1 1 1 0 0 0 1 1 0 1 1 0 0 0 1 0 1 1 1 1 0 0 1 0 0 1 1\n",
      " 1 1 1 1 0 0 0 0 0 0 0 1 1 1 1 0 0 0 0 1 0 1 0 0 0 0 0 1 1 1 0 0 1 0 0 1 1\n",
      " 1 1 0 0 1 1 0 0 0 1 1 1 0 0 1 0 0 0 0 1 0 0 0 0 0 0 0 0 0 1 0 0 0 0 0 0 1\n",
      " 0 0 1 0 0 1 1 1 0 1 1 0 1 0 0 0 0 1 0 0 0 0 0 0]\n"
     ]
    }
   ],
   "source": [
    "def integrate_synthetics(og_data, og_labels, synthetics, min_class):\n",
    "    #integrate the original data with the synthetic samples\n",
    "    #and the original labels with the synthetic labels\n",
    "    integrated_data = np.vstack([og_data, synthetics])\n",
    "    synthetic_labels = np.full(synthetics.shape[0], min_class)\n",
    "    integrated_labels = np.hstack([og_labels, synthetic_labels])\n",
    "    \n",
    "    return integrated_data, integrated_labels\n",
    "\n",
    "X_resampled, y_resampled = integrate_synthetics(X_minority, y_train, synthetic_samples, min_class)\n",
    "print(\"Resampled X:\")\n",
    "print(X_resampled)\n",
    "print(\"Resampled y:\")\n",
    "print(y_resampled)"
   ]
  },
  {
   "cell_type": "markdown",
   "metadata": {},
   "source": [
    "Now that we've created all the necessary helper functions, we can create our SMOTE functionality. Using this <b>smote()</b> function, we will be able to create new minority samples in our dataset that will hopefully help our classifier performance:"
   ]
  },
  {
   "cell_type": "code",
   "execution_count": 596,
   "metadata": {},
   "outputs": [
    {
     "name": "stdout",
     "output_type": "stream",
     "text": [
      "Sample index 61 neighbors: [ 2 30]\n",
      "Sample index 143 neighbors: [43 30]\n",
      "Sample index 97 neighbors: [ 7 94]\n",
      "Sample index 49 neighbors: [39 66]\n",
      "Sample index 83 neighbors: [150 134]\n",
      "Sample index 97 neighbors: [ 7 94]\n",
      "Original X shape: (426, 30), y shape: (426,)\n",
      "Synthetic samples shape: (6, 30)\n",
      "Resampled X shape: (432, 30), y shape: (432,)\n"
     ]
    }
   ],
   "source": [
    "def smote(X, y, min_class, oversample_pct, k):\n",
    "    #get the minority samples from our original dataset\n",
    "    min_class, min_indices = identify_minority(y)\n",
    "    min_samples = X[min_indices]\n",
    "\n",
    "    #get the k nearest neighbors to our min samples\n",
    "    nn = get_nn(min_samples, k)\n",
    "    \n",
    "    #calculate the number of synthetic samples to generate, based on the pct oversample passed in\n",
    "    #then generate this number of synthetics\n",
    "    synthetics = create_synthetics(\n",
    "        min_samples, \n",
    "        nn,\n",
    "        int(X_minority.shape[0] * oversample_pct)\n",
    "    )\n",
    " \n",
    "    print(f\"Original X shape: {X.shape}, y shape: {y.shape}\")\n",
    "    print(f\"Synthetic samples shape: {synthetics.shape}\")\n",
    "    \n",
    "    X_resampled, y_resampled = integrate_synthetics(X, y, synthetics, min_class)\n",
    "    print(f\"Resampled X shape: {X_resampled.shape}, y shape: {y_resampled.shape}\")\n",
    "\n",
    "    #return the combined original and synthetic data and labels\n",
    "    return X_resampled, y_resampled\n",
    "    \n",
    "X_train_resampled, y_train_resampled = smote(X_train, y_train, min_class, oversample_pct=2, k=3)\n"
   ]
  },
  {
   "cell_type": "markdown",
   "metadata": {},
   "source": [
    "Now that we've created our SMOTE function, we will evaluate the performance of our classifiers using it. Per the assignment, we will use oversampling percentages of 100, 200, and 300, and we will use k values of 1 and 5 neighbors:"
   ]
  },
  {
   "cell_type": "code",
   "execution_count": 597,
   "metadata": {},
   "outputs": [
    {
     "name": "stdout",
     "output_type": "stream",
     "text": [
      "Sample index 92 neighbors: []\n",
      "Warning: No neighbors found for sample index 92, skipping this sample.\n",
      "Sample index 13 neighbors: []\n",
      "Warning: No neighbors found for sample index 13, skipping this sample.\n",
      "Sample index 109 neighbors: []\n",
      "Warning: No neighbors found for sample index 109, skipping this sample.\n",
      "Original X shape: (426, 30), y shape: (426,)\n",
      "Synthetic samples shape: (0, 30)\n",
      "Resampled X shape: (426, 30), y shape: (426,)\n",
      "Sample index 139 neighbors: [90  6 74 15]\n",
      "Sample index 53 neighbors: [ 56  35  96 126]\n",
      "Sample index 67 neighbors: [ 88  11 111  17]\n",
      "Original X shape: (426, 30), y shape: (426,)\n",
      "Synthetic samples shape: (3, 30)\n",
      "Resampled X shape: (429, 30), y shape: (429,)\n",
      "Sample index 80 neighbors: []\n",
      "Warning: No neighbors found for sample index 80, skipping this sample.\n",
      "Sample index 31 neighbors: []\n",
      "Warning: No neighbors found for sample index 31, skipping this sample.\n",
      "Sample index 36 neighbors: []\n",
      "Warning: No neighbors found for sample index 36, skipping this sample.\n",
      "Sample index 113 neighbors: []\n",
      "Warning: No neighbors found for sample index 113, skipping this sample.\n",
      "Sample index 4 neighbors: []\n",
      "Warning: No neighbors found for sample index 4, skipping this sample.\n",
      "Sample index 127 neighbors: []\n",
      "Warning: No neighbors found for sample index 127, skipping this sample.\n",
      "Original X shape: (426, 30), y shape: (426,)\n",
      "Synthetic samples shape: (0, 30)\n",
      "Resampled X shape: (426, 30), y shape: (426,)\n",
      "Sample index 106 neighbors: [104 135 118  22]\n",
      "Sample index 139 neighbors: [90  6 74 15]\n",
      "Sample index 40 neighbors: [149  47 103 151]\n",
      "Sample index 139 neighbors: [90  6 74 15]\n",
      "Sample index 130 neighbors: [58 28 63 78]\n",
      "Sample index 72 neighbors: [150  99  83  67]\n",
      "Original X shape: (426, 30), y shape: (426,)\n",
      "Synthetic samples shape: (6, 30)\n",
      "Resampled X shape: (432, 30), y shape: (432,)\n",
      "Sample index 48 neighbors: []\n",
      "Warning: No neighbors found for sample index 48, skipping this sample.\n",
      "Sample index 120 neighbors: []\n",
      "Warning: No neighbors found for sample index 120, skipping this sample.\n",
      "Sample index 10 neighbors: []\n",
      "Warning: No neighbors found for sample index 10, skipping this sample.\n",
      "Sample index 41 neighbors: []\n",
      "Warning: No neighbors found for sample index 41, skipping this sample.\n",
      "Sample index 116 neighbors: []\n",
      "Warning: No neighbors found for sample index 116, skipping this sample.\n",
      "Sample index 52 neighbors: []\n",
      "Warning: No neighbors found for sample index 52, skipping this sample.\n",
      "Sample index 96 neighbors: []\n",
      "Warning: No neighbors found for sample index 96, skipping this sample.\n",
      "Sample index 69 neighbors: []\n",
      "Warning: No neighbors found for sample index 69, skipping this sample.\n",
      "Sample index 109 neighbors: []\n",
      "Warning: No neighbors found for sample index 109, skipping this sample.\n",
      "Original X shape: (426, 30), y shape: (426,)\n",
      "Synthetic samples shape: (0, 30)\n",
      "Resampled X shape: (426, 30), y shape: (426,)\n",
      "Sample index 151 neighbors: [ 47 155 103  40]\n",
      "Sample index 44 neighbors: [ 52 133  84  80]\n",
      "Sample index 1 neighbors: [82 79 89 59]\n",
      "Sample index 55 neighbors: [18 60 99 17]\n",
      "Sample index 118 neighbors: [ 22  86 117  73]\n",
      "Sample index 79 neighbors: [116   1  82  89]\n",
      "Sample index 78 neighbors: [ 5 25 58 29]\n",
      "Sample index 47 neighbors: [155 151  40   8]\n",
      "Sample index 52 neighbors: [ 84  44 124 133]\n",
      "Original X shape: (426, 30), y shape: (426,)\n",
      "Synthetic samples shape: (9, 30)\n",
      "Resampled X shape: (435, 30), y shape: (435,)\n"
     ]
    },
    {
     "data": {
      "image/png": "[encoded data removed]",
      "text/plain": [
       "<Figure size 1000x600 with 1 Axes>"
      ]
     },
     "metadata": {},
     "output_type": "display_data"
    }
   ],
   "source": [
    "X_train, X_test, y_train, y_test = train_test_split(features, target, test_size=0.25, random_state=42)\n",
    "\n",
    "oversampling_percentages = [1.0, 2.0, 3.0]\n",
    "k_values = [1, 5]\n",
    "dec_tree_f1_scores_k1 = []\n",
    "nb_f1_scores_k1 = []\n",
    "dec_tree_f1_scores_k5 = []\n",
    "nb_f1_scores_k5 = []\n",
    "\n",
    "# Function to evaluate classifiers after applying SMOTE\n",
    "def evaluate_with_smote(X_train, y_train, X_test, y_test, k_neighbors, oversample_pct):\n",
    "    # Apply custom SMOTE with the specified k and oversampling percentage\n",
    "    X_train_resampled, y_train_resampled = smote(X_train, y_train, min_class=1, oversample_pct=oversample_pct, k=k_neighbors)\n",
    "\n",
    "    # Decision Tree evaluation\n",
    "    dec_tree = DecisionTreeClassifier(maximum_tree_depth=5)\n",
    "    dec_tree_f1, _ = test_performance(dec_tree, X_train_resampled, y_train_resampled)\n",
    "\n",
    "    # Naive Bayes evaluation\n",
    "    nb = NaiveBayesClassifier()\n",
    "    nb_f1, _ = test_performance(nb, X_train_resampled, y_train_resampled)\n",
    "\n",
    "    return dec_tree_f1, nb_f1\n",
    "\n",
    "# Loop over oversampling percentages\n",
    "for pct in oversampling_percentages:\n",
    "    # For k = 1\n",
    "    dec_tree_f1_k1, nb_f1_k1 = evaluate_with_smote(X_train, y_train, X_test, y_test, k_neighbors=1, oversample_pct=pct)\n",
    "    dec_tree_f1_scores_k1.append(dec_tree_f1_k1)\n",
    "    nb_f1_scores_k1.append(nb_f1_k1)\n",
    "    \n",
    "    # For k = 5\n",
    "    dec_tree_f1_k5, nb_f1_k5 = evaluate_with_smote(X_train, y_train, X_test, y_test, k_neighbors=5, oversample_pct=pct)\n",
    "    dec_tree_f1_scores_k5.append(dec_tree_f1_k5)\n",
    "    nb_f1_scores_k5.append(nb_f1_k5)\n",
    "\n",
    "# Plot the F1 scores\n",
    "plt.figure(figsize=(10, 6))\n",
    "\n",
    "# Plot Decision Tree F1 scores for k=1 and k=5\n",
    "plt.plot([100, 200, 300], dec_tree_f1_scores_k1, label='Decision Tree (k=1)', marker='o', color='blue')\n",
    "plt.plot([100, 200, 300], dec_tree_f1_scores_k5, label='Decision Tree (k=5)', marker='o', color='darkblue')\n",
    "\n",
    "# Plot Naive Bayes F1 scores for k=1 and k=5\n",
    "plt.plot([100, 200, 300], nb_f1_scores_k1, label='Naive Bayes (k=1)', marker='o', color='orange')\n",
    "plt.plot([100, 200, 300], nb_f1_scores_k5, label='Naive Bayes (k=5)', marker='o', color='darkorange')\n",
    "\n",
    "plt.xlabel('Percentage of Oversampled Minority Samples')\n",
    "plt.ylabel('F1 Score')\n",
    "plt.title('Classifier Performance as a Function of Oversampled Minority Samples')\n",
    "plt.legend()\n",
    "plt.grid(True)\n",
    "plt.show()\n"
   ]
  }
 ],
 "metadata": {
  "kernelspec": {
   "display_name": "Python 3",
   "language": "python",
   "name": "python3"
  },
  "language_info": {
   "codemirror_mode": {
    "name": "ipython",
    "version": 3
   },
   "file_extension": ".py",
   "mimetype": "text/x-python",
   "name": "python",
   "nbconvert_exporter": "python",
   "pygments_lexer": "ipython3",
   "version": "3.10.4"
  }
 },
 "nbformat": 4,
 "nbformat_minor": 2
}
